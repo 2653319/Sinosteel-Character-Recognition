{
  "nbformat": 4,
  "nbformat_minor": 5,
  "metadata": {
    "kernelspec": {
      "display_name": "Python 3",
      "language": "python",
      "name": "python3"
    },
    "language_info": {
      "codemirror_mode": {
        "name": "ipython",
        "version": 3
      },
      "file_extension": ".py",
      "mimetype": "text/x-python",
      "name": "python",
      "nbconvert_exporter": "python",
      "pygments_lexer": "ipython3",
      "version": "3.7.6"
    },
    "colab": {
      "provenance": [],
      "collapsed_sections": [],
      "include_colab_link": true
    }
  },
  "cells": [
    {
      "cell_type": "markdown",
      "metadata": {
        "id": "view-in-github",
        "colab_type": "text"
      },
      "source": [
        "<a href=\"https://colab.research.google.com/github/2653319/Sinosteel-Character-Recognition/blob/main/img_capture_%E7%B7%A8%E8%99%9F%E8%BE%A8%E8%AD%98.ipynb\" target=\"_parent\"><img src=\"https://colab.research.google.com/assets/colab-badge.svg\" alt=\"Open In Colab\"/></a>"
      ]
    },
    {
      "cell_type": "code",
      "metadata": {
        "id": "5a6d65c7"
      },
      "source": [
        "import os\n",
        "import pandas as pd\n",
        "import matplotlib\n",
        "import matplotlib.pyplot as plt\n",
        "import cv2\n",
        "import numpy as np\n",
        "from PIL import Image \n",
        "%matplotlib inline\n",
        "#!pwd"
      ],
      "id": "5a6d65c7",
      "execution_count": null,
      "outputs": []
    },
    {
      "cell_type": "code",
      "metadata": {
        "id": "0tGbP929rBKj",
        "colab": {
          "base_uri": "https://localhost:8080/"
        },
        "outputId": "cd4783e0-1421-4064-a713-b9d0d4c7e0c4"
      },
      "source": [
        "from google.colab import drive\n",
        "drive.mount('/content/drive')"
      ],
      "id": "0tGbP929rBKj",
      "execution_count": null,
      "outputs": [
        {
          "output_type": "stream",
          "name": "stdout",
          "text": [
            "Drive already mounted at /content/drive; to attempt to forcibly remount, call drive.mount(\"/content/drive\", force_remount=True).\n"
          ]
        }
      ]
    },
    {
      "cell_type": "code",
      "metadata": {
        "id": "cdb73573",
        "colab": {
          "base_uri": "https://localhost:8080/",
          "height": 461
        },
        "outputId": "58c587cd-2980-4663-9c31-fc7ed9d71c6f"
      },
      "source": [
        "df_train = pd.read_csv('public_training_data.csv') #訓練CSV\n",
        "df_train"
      ],
      "id": "cdb73573",
      "execution_count": null,
      "outputs": [
        {
          "output_type": "execute_result",
          "data": {
            "text/html": [
              "<div>\n",
              "<style scoped>\n",
              "    .dataframe tbody tr th:only-of-type {\n",
              "        vertical-align: middle;\n",
              "    }\n",
              "\n",
              "    .dataframe tbody tr th {\n",
              "        vertical-align: top;\n",
              "    }\n",
              "\n",
              "    .dataframe thead th {\n",
              "        text-align: right;\n",
              "    }\n",
              "</style>\n",
              "<table border=\"1\" class=\"dataframe\">\n",
              "  <thead>\n",
              "    <tr style=\"text-align: right;\">\n",
              "      <th></th>\n",
              "      <th>filename</th>\n",
              "      <th>label</th>\n",
              "      <th>top right x</th>\n",
              "      <th>top right y</th>\n",
              "      <th>bottom right x</th>\n",
              "      <th>bottom right y</th>\n",
              "      <th>bottom left x</th>\n",
              "      <th>bottom left y</th>\n",
              "      <th>top left x</th>\n",
              "      <th>top left y</th>\n",
              "    </tr>\n",
              "  </thead>\n",
              "  <tbody>\n",
              "    <tr>\n",
              "      <th>0</th>\n",
              "      <td>oR72wdOuzdHVh3sMMmC4gMG2aG5jeub</td>\n",
              "      <td>3LN996012F</td>\n",
              "      <td>706.84430</td>\n",
              "      <td>411.87338</td>\n",
              "      <td>707.51070</td>\n",
              "      <td>455.82960</td>\n",
              "      <td>371.28748</td>\n",
              "      <td>462.13885</td>\n",
              "      <td>370.62106</td>\n",
              "      <td>418.18262</td>\n",
              "    </tr>\n",
              "    <tr>\n",
              "      <th>1</th>\n",
              "      <td>7VVWhb6tKde=x=w5x6_p=lfcTlGTBa</td>\n",
              "      <td>2FV271041L</td>\n",
              "      <td>767.03550</td>\n",
              "      <td>426.20898</td>\n",
              "      <td>767.60080</td>\n",
              "      <td>488.00024</td>\n",
              "      <td>428.13678</td>\n",
              "      <td>491.84418</td>\n",
              "      <td>427.57147</td>\n",
              "      <td>430.05290</td>\n",
              "    </tr>\n",
              "    <tr>\n",
              "      <th>2</th>\n",
              "      <td>VweTPTTYjERnFWFr3R7=YFKrj9NBT1Lg</td>\n",
              "      <td>2FV413012A</td>\n",
              "      <td>840.83276</td>\n",
              "      <td>495.59230</td>\n",
              "      <td>841.15540</td>\n",
              "      <td>551.61390</td>\n",
              "      <td>421.96686</td>\n",
              "      <td>554.60376</td>\n",
              "      <td>421.64413</td>\n",
              "      <td>498.58215</td>\n",
              "    </tr>\n",
              "    <tr>\n",
              "      <th>3</th>\n",
              "      <td>XOIg4ZPERXLzBmsdMd4XNHYH1r=Urbr</td>\n",
              "      <td>3LP563013A</td>\n",
              "      <td>871.62260</td>\n",
              "      <td>522.91460</td>\n",
              "      <td>872.52136</td>\n",
              "      <td>593.15930</td>\n",
              "      <td>352.70407</td>\n",
              "      <td>601.39160</td>\n",
              "      <td>351.80527</td>\n",
              "      <td>531.14690</td>\n",
              "    </tr>\n",
              "    <tr>\n",
              "      <th>4</th>\n",
              "      <td>jm85agd8RyzlDBl6jjnpypYIuVw7BTvb</td>\n",
              "      <td>3LR436033F</td>\n",
              "      <td>837.74120</td>\n",
              "      <td>424.97200</td>\n",
              "      <td>838.30910</td>\n",
              "      <td>474.88922</td>\n",
              "      <td>469.82086</td>\n",
              "      <td>480.07870</td>\n",
              "      <td>469.25296</td>\n",
              "      <td>430.16144</td>\n",
              "    </tr>\n",
              "    <tr>\n",
              "      <th>...</th>\n",
              "      <td>...</td>\n",
              "      <td>...</td>\n",
              "      <td>...</td>\n",
              "      <td>...</td>\n",
              "      <td>...</td>\n",
              "      <td>...</td>\n",
              "      <td>...</td>\n",
              "      <td>...</td>\n",
              "      <td>...</td>\n",
              "      <td>...</td>\n",
              "    </tr>\n",
              "    <tr>\n",
              "      <th>12062</th>\n",
              "      <td>KVbBuo6P=Pv4FsTMGW84LHFgiK2H2=nU</td>\n",
              "      <td>3LZ146042A</td>\n",
              "      <td>879.31635</td>\n",
              "      <td>445.65146</td>\n",
              "      <td>880.98413</td>\n",
              "      <td>500.45438</td>\n",
              "      <td>487.31512</td>\n",
              "      <td>512.43494</td>\n",
              "      <td>485.64730</td>\n",
              "      <td>457.63205</td>\n",
              "    </tr>\n",
              "    <tr>\n",
              "      <th>12063</th>\n",
              "      <td>mVE9bWuj9S_vFwQHEIH_e5mMZ4javQF8</td>\n",
              "      <td>2G2204042K</td>\n",
              "      <td>873.36597</td>\n",
              "      <td>478.13287</td>\n",
              "      <td>874.51770</td>\n",
              "      <td>526.46520</td>\n",
              "      <td>477.86438</td>\n",
              "      <td>535.91770</td>\n",
              "      <td>476.71262</td>\n",
              "      <td>487.58540</td>\n",
              "    </tr>\n",
              "    <tr>\n",
              "      <th>12064</th>\n",
              "      <td>glBWhEUeVftedEqw=qq=mzBrC=gwMyFs</td>\n",
              "      <td>2FM573063K</td>\n",
              "      <td>852.99220</td>\n",
              "      <td>498.73690</td>\n",
              "      <td>853.77070</td>\n",
              "      <td>557.14670</td>\n",
              "      <td>414.06592</td>\n",
              "      <td>563.00720</td>\n",
              "      <td>413.28740</td>\n",
              "      <td>504.59738</td>\n",
              "    </tr>\n",
              "    <tr>\n",
              "      <th>12065</th>\n",
              "      <td>Xv19H4GQWajfdKTsHBcJoz8RaKTVa7BR</td>\n",
              "      <td>1WG43V203</td>\n",
              "      <td>762.74390</td>\n",
              "      <td>447.21410</td>\n",
              "      <td>763.09863</td>\n",
              "      <td>496.17346</td>\n",
              "      <td>475.32275</td>\n",
              "      <td>498.25880</td>\n",
              "      <td>474.96802</td>\n",
              "      <td>449.29944</td>\n",
              "    </tr>\n",
              "    <tr>\n",
              "      <th>12066</th>\n",
              "      <td>=drtICRLovBY88qkf_ESb5kX6iiGMX</td>\n",
              "      <td>1W8935042F</td>\n",
              "      <td>885.47296</td>\n",
              "      <td>461.75850</td>\n",
              "      <td>886.54285</td>\n",
              "      <td>519.04090</td>\n",
              "      <td>459.75897</td>\n",
              "      <td>527.01220</td>\n",
              "      <td>458.68906</td>\n",
              "      <td>469.72983</td>\n",
              "    </tr>\n",
              "  </tbody>\n",
              "</table>\n",
              "<p>12067 rows × 10 columns</p>\n",
              "</div>"
            ],
            "text/plain": [
              "                               filename       label  ...  top left x  top left y\n",
              "0       oR72wdOuzdHVh3sMMmC4gMG2aG5jeub  3LN996012F  ...   370.62106   418.18262\n",
              "1        7VVWhb6tKde=x=w5x6_p=lfcTlGTBa  2FV271041L  ...   427.57147   430.05290\n",
              "2      VweTPTTYjERnFWFr3R7=YFKrj9NBT1Lg  2FV413012A  ...   421.64413   498.58215\n",
              "3       XOIg4ZPERXLzBmsdMd4XNHYH1r=Urbr  3LP563013A  ...   351.80527   531.14690\n",
              "4      jm85agd8RyzlDBl6jjnpypYIuVw7BTvb  3LR436033F  ...   469.25296   430.16144\n",
              "...                                 ...         ...  ...         ...         ...\n",
              "12062  KVbBuo6P=Pv4FsTMGW84LHFgiK2H2=nU  3LZ146042A  ...   485.64730   457.63205\n",
              "12063  mVE9bWuj9S_vFwQHEIH_e5mMZ4javQF8  2G2204042K  ...   476.71262   487.58540\n",
              "12064  glBWhEUeVftedEqw=qq=mzBrC=gwMyFs  2FM573063K  ...   413.28740   504.59738\n",
              "12065  Xv19H4GQWajfdKTsHBcJoz8RaKTVa7BR   1WG43V203  ...   474.96802   449.29944\n",
              "12066    =drtICRLovBY88qkf_ESb5kX6iiGMX  1W8935042F  ...   458.68906   469.72983\n",
              "\n",
              "[12067 rows x 10 columns]"
            ]
          },
          "metadata": {},
          "execution_count": 185
        }
      ]
    },
    {
      "cell_type": "code",
      "metadata": {
        "id": "S3JLGSteWlCP"
      },
      "source": [
        "df_path = pd.DataFrame('drive/MyDrive/Reset_public_training_data/' + df_train['label'] + '.jpg') #訓練圖片"
      ],
      "id": "S3JLGSteWlCP",
      "execution_count": null,
      "outputs": []
    },
    {
      "cell_type": "code",
      "metadata": {
        "colab": {
          "base_uri": "https://localhost:8080/",
          "height": 35
        },
        "id": "BF_aQUK7fShM",
        "outputId": "b6ef83c7-6d37-4377-9100-95da6fed4680"
      },
      "source": [
        "df_path['label'][1]"
      ],
      "id": "BF_aQUK7fShM",
      "execution_count": null,
      "outputs": [
        {
          "output_type": "execute_result",
          "data": {
            "application/vnd.google.colaboratory.intrinsic+json": {
              "type": "string"
            },
            "text/plain": [
              "'drive/MyDrive/Reset_public_training_data/2FV271041L.jpg'"
            ]
          },
          "metadata": {},
          "execution_count": 187
        }
      ]
    },
    {
      "cell_type": "code",
      "metadata": {
        "id": "FMV795MVAekq",
        "colab": {
          "base_uri": "https://localhost:8080/"
        },
        "outputId": "f5a221ce-a409-4382-cf82-43373871a671"
      },
      "source": [
        "# for h in range(len(df_path)):  #縮放全部裁切後圖片 \n",
        "#     img = cv2.cvtColor(cv2.imread(df_path['label'][h]), cv2.COLOR_BGR2RGB)\n",
        "#     image = cv2.resize(img, (250, 80), interpolation=cv2.INTER_AREA)   \n",
        "#     if(h % 10 == 0):\n",
        "#         print(\"h:\" + str(h))\n",
        "#     cv2.imwrite('drive/MyDrive/Resize_cut_public_training/' + df_train['label'][h] + '.jpg', image)  #寫入檔案"
      ],
      "id": "FMV795MVAekq",
      "execution_count": null,
      "outputs": [
        {
          "output_type": "stream",
          "name": "stdout",
          "text": [
            "h:0\n"
          ]
        }
      ]
    },
    {
      "cell_type": "code",
      "metadata": {
        "id": "Xjx906Zmj57x"
      },
      "source": [
        "img_array = 0"
      ],
      "id": "Xjx906Zmj57x",
      "execution_count": null,
      "outputs": []
    },
    {
      "cell_type": "code",
      "metadata": {
        "id": "Fzwimjyo9EAO"
      },
      "source": [
        "img_array = np.zeros((len(df_cut), 80,250), dtype=np.int)"
      ],
      "id": "Fzwimjyo9EAO",
      "execution_count": null,
      "outputs": []
    },
    {
      "cell_type": "code",
      "metadata": {
        "id": "dFrQtW_mc2B2"
      },
      "source": [
        "df_cut = pd.DataFrame('drive/MyDrive/Resize_cut_public_training/' + df_train['label'] + '.jpg') #訓練圖片"
      ],
      "id": "dFrQtW_mc2B2",
      "execution_count": null,
      "outputs": []
    },
    {
      "cell_type": "code",
      "metadata": {
        "id": "f9f52ae2",
        "colab": {
          "base_uri": "https://localhost:8080/"
        },
        "outputId": "5f528db1-604d-40b6-9995-dd49d312bfa0"
      },
      "source": [
        "for c in range(len(df_cut)):\n",
        "  I = Image.open(df_cut['label'][c])\n",
        "  L = I.convert('L')\n",
        "  img = np.array(L)\n",
        "  img_array[c] = img\n",
        "  if(c % 50 == 0):\n",
        "    print(\"c : \" , c)"
      ],
      "id": "f9f52ae2",
      "execution_count": null,
      "outputs": [
        {
          "output_type": "stream",
          "name": "stdout",
          "text": [
            "c :  0\n",
            "c :  50\n",
            "c :  100\n",
            "c :  150\n",
            "c :  200\n",
            "c :  250\n",
            "c :  300\n",
            "c :  350\n",
            "c :  400\n",
            "c :  450\n",
            "c :  500\n",
            "c :  550\n",
            "c :  600\n",
            "c :  650\n",
            "c :  700\n",
            "c :  750\n",
            "c :  800\n",
            "c :  850\n",
            "c :  900\n",
            "c :  950\n",
            "c :  1000\n",
            "c :  1050\n",
            "c :  1100\n",
            "c :  1150\n",
            "c :  1200\n",
            "c :  1250\n",
            "c :  1300\n",
            "c :  1350\n",
            "c :  1400\n",
            "c :  1450\n",
            "c :  1500\n",
            "c :  1550\n",
            "c :  1600\n",
            "c :  1650\n",
            "c :  1700\n",
            "c :  1750\n",
            "c :  1800\n",
            "c :  1850\n",
            "c :  1900\n",
            "c :  1950\n",
            "c :  2000\n",
            "c :  2050\n",
            "c :  2100\n",
            "c :  2150\n",
            "c :  2200\n",
            "c :  2250\n",
            "c :  2300\n",
            "c :  2350\n",
            "c :  2400\n",
            "c :  2450\n",
            "c :  2500\n",
            "c :  2550\n",
            "c :  2600\n",
            "c :  2650\n",
            "c :  2700\n",
            "c :  2750\n",
            "c :  2800\n",
            "c :  2850\n",
            "c :  2900\n",
            "c :  2950\n",
            "c :  3000\n",
            "c :  3050\n",
            "c :  3100\n",
            "c :  3150\n",
            "c :  3200\n",
            "c :  3250\n",
            "c :  3300\n",
            "c :  3350\n",
            "c :  3400\n",
            "c :  3450\n",
            "c :  3500\n",
            "c :  3550\n",
            "c :  3600\n",
            "c :  3650\n",
            "c :  3700\n",
            "c :  3750\n",
            "c :  3800\n",
            "c :  3850\n",
            "c :  3900\n",
            "c :  3950\n",
            "c :  4000\n",
            "c :  4050\n",
            "c :  4100\n",
            "c :  4150\n",
            "c :  4200\n",
            "c :  4250\n",
            "c :  4300\n",
            "c :  4350\n",
            "c :  4400\n",
            "c :  4450\n",
            "c :  4500\n",
            "c :  4550\n",
            "c :  4600\n",
            "c :  4650\n",
            "c :  4700\n",
            "c :  4750\n",
            "c :  4800\n",
            "c :  4850\n",
            "c :  4900\n",
            "c :  4950\n",
            "c :  5000\n",
            "c :  5050\n",
            "c :  5100\n",
            "c :  5150\n",
            "c :  5200\n",
            "c :  5250\n",
            "c :  5300\n",
            "c :  5350\n",
            "c :  5400\n",
            "c :  5450\n",
            "c :  5500\n",
            "c :  5550\n",
            "c :  5600\n",
            "c :  5650\n",
            "c :  5700\n",
            "c :  5750\n",
            "c :  5800\n",
            "c :  5850\n",
            "c :  5900\n",
            "c :  5950\n",
            "c :  6000\n",
            "c :  6050\n",
            "c :  6100\n",
            "c :  6150\n",
            "c :  6200\n",
            "c :  6250\n",
            "c :  6300\n",
            "c :  6350\n",
            "c :  6400\n",
            "c :  6450\n",
            "c :  6500\n",
            "c :  6550\n",
            "c :  6600\n",
            "c :  6650\n",
            "c :  6700\n",
            "c :  6750\n",
            "c :  6800\n",
            "c :  6850\n",
            "c :  6900\n",
            "c :  6950\n",
            "c :  7000\n",
            "c :  7050\n",
            "c :  7100\n",
            "c :  7150\n",
            "c :  7200\n",
            "c :  7250\n",
            "c :  7300\n",
            "c :  7350\n",
            "c :  7400\n",
            "c :  7450\n",
            "c :  7500\n",
            "c :  7550\n",
            "c :  7600\n",
            "c :  7650\n",
            "c :  7700\n",
            "c :  7750\n",
            "c :  7800\n",
            "c :  7850\n",
            "c :  7900\n",
            "c :  7950\n",
            "c :  8000\n",
            "c :  8050\n",
            "c :  8100\n",
            "c :  8150\n",
            "c :  8200\n",
            "c :  8250\n",
            "c :  8300\n",
            "c :  8350\n",
            "c :  8400\n",
            "c :  8450\n",
            "c :  8500\n",
            "c :  8550\n",
            "c :  8600\n",
            "c :  8650\n",
            "c :  8700\n",
            "c :  8750\n",
            "c :  8800\n",
            "c :  8850\n",
            "c :  8900\n",
            "c :  8950\n",
            "c :  9000\n",
            "c :  9050\n",
            "c :  9100\n",
            "c :  9150\n",
            "c :  9200\n",
            "c :  9250\n",
            "c :  9300\n",
            "c :  9350\n",
            "c :  9400\n",
            "c :  9450\n",
            "c :  9500\n",
            "c :  9550\n",
            "c :  9600\n",
            "c :  9650\n",
            "c :  9700\n",
            "c :  9750\n",
            "c :  9800\n",
            "c :  9850\n",
            "c :  9900\n",
            "c :  9950\n",
            "c :  10000\n",
            "c :  10050\n",
            "c :  10100\n",
            "c :  10150\n",
            "c :  10200\n",
            "c :  10250\n",
            "c :  10300\n",
            "c :  10350\n",
            "c :  10400\n",
            "c :  10450\n",
            "c :  10500\n",
            "c :  10550\n",
            "c :  10600\n",
            "c :  10650\n",
            "c :  10700\n",
            "c :  10750\n",
            "c :  10800\n",
            "c :  10850\n",
            "c :  10900\n",
            "c :  10950\n",
            "c :  11000\n",
            "c :  11050\n",
            "c :  11100\n",
            "c :  11150\n",
            "c :  11200\n",
            "c :  11250\n",
            "c :  11300\n",
            "c :  11350\n",
            "c :  11400\n",
            "c :  11450\n",
            "c :  11500\n",
            "c :  11550\n",
            "c :  11600\n",
            "c :  11650\n",
            "c :  11700\n",
            "c :  11750\n",
            "c :  11800\n",
            "c :  11850\n",
            "c :  11900\n",
            "c :  11950\n",
            "c :  12000\n",
            "c :  12050\n"
          ]
        }
      ]
    },
    {
      "cell_type": "code",
      "metadata": {
        "id": "UA61H8FGmQhZ"
      },
      "source": [
        "# img_array = np.expand_dims(img_array, axis=-1)\n",
        "img_array = img_array.reshape(len(img_array), 20000).astype('int')"
      ],
      "id": "UA61H8FGmQhZ",
      "execution_count": null,
      "outputs": []
    },
    {
      "cell_type": "code",
      "metadata": {
        "id": "uUKMj30aYVb3",
        "colab": {
          "base_uri": "https://localhost:8080/"
        },
        "outputId": "c66f50f1-6f12-4a48-ed20-bc37bbb52f52"
      },
      "source": [
        "len(img_array)"
      ],
      "id": "uUKMj30aYVb3",
      "execution_count": null,
      "outputs": [
        {
          "output_type": "execute_result",
          "data": {
            "text/plain": [
              "12067"
            ]
          },
          "metadata": {},
          "execution_count": 193
        }
      ]
    },
    {
      "cell_type": "code",
      "metadata": {
        "id": "ejouDh4chKzP"
      },
      "source": [
        "# img_array=img_array/100"
      ],
      "id": "ejouDh4chKzP",
      "execution_count": null,
      "outputs": []
    },
    {
      "cell_type": "code",
      "metadata": {
        "id": "iComAyJS-LXN",
        "colab": {
          "base_uri": "https://localhost:8080/"
        },
        "outputId": "f1cf128a-7d0c-4327-df26-2534fbf43ba9"
      },
      "source": [
        "img_array.shape  #題目"
      ],
      "id": "iComAyJS-LXN",
      "execution_count": null,
      "outputs": [
        {
          "output_type": "execute_result",
          "data": {
            "text/plain": [
              "(12067, 20000)"
            ]
          },
          "metadata": {},
          "execution_count": 194
        }
      ]
    },
    {
      "cell_type": "code",
      "metadata": {
        "id": "ANjxKwiZLRnm"
      },
      "source": [
        "dict = ['Nashi','A','B','C','D','E','F','G','H','I','J','K','L','M','N','O','P','Q','R','S','T','U','V','W','X','Y','Z','0','1','2','3','4','5','6','7','8','9']"
      ],
      "id": "ANjxKwiZLRnm",
      "execution_count": null,
      "outputs": []
    },
    {
      "cell_type": "code",
      "metadata": {
        "id": "Op8Uc-5iajQ6"
      },
      "source": [
        "leng = []  #查看最大值用來建立字典\n",
        "for z in range(len(df_train)):\n",
        "  leng.append(len(df_train['label'][z]))\n",
        "z = max(leng)"
      ],
      "id": "Op8Uc-5iajQ6",
      "execution_count": null,
      "outputs": []
    },
    {
      "cell_type": "code",
      "metadata": {
        "id": "3KaFJZ2lS4-3"
      },
      "source": [
        "dict_str = np.zeros(((len(df_train)), z,37), dtype=np.int)\n",
        "# dict_str = np.empty((len(df_train), z ),dtype=object)"
      ],
      "id": "3KaFJZ2lS4-3",
      "execution_count": null,
      "outputs": []
    },
    {
      "cell_type": "code",
      "metadata": {
        "id": "XvfkU1KOY0j6"
      },
      "source": [
        "for i in range(len(df_train)):   #將答案根據字典轉換\n",
        "  str1 = list(df_train['label'][i])\n",
        "  for j in range(len(str1)):\n",
        "    for k in range(37):\n",
        "      if(str1[j] == dict[k]):\n",
        "        dict_str[i][j][k] = 1\n",
        "        break"
      ],
      "id": "XvfkU1KOY0j6",
      "execution_count": null,
      "outputs": []
    },
    {
      "cell_type": "code",
      "metadata": {
        "id": "3l3zxtO8jR6U",
        "colab": {
          "base_uri": "https://localhost:8080/"
        },
        "outputId": "cfaeb6e6-a0ca-4e82-b298-dd15623eb0cc"
      },
      "source": [
        "dict_str.shape  #答案"
      ],
      "id": "3l3zxtO8jR6U",
      "execution_count": null,
      "outputs": [
        {
          "output_type": "execute_result",
          "data": {
            "text/plain": [
              "(12067, 12, 37)"
            ]
          },
          "metadata": {},
          "execution_count": 199
        }
      ]
    },
    {
      "cell_type": "code",
      "metadata": {
        "id": "fnKAdSM8u7gO"
      },
      "source": [
        "dict_str_2 = dict_str.reshape(len(dict_str), 444).astype('int')"
      ],
      "id": "fnKAdSM8u7gO",
      "execution_count": null,
      "outputs": []
    },
    {
      "cell_type": "code",
      "metadata": {
        "id": "yK5hRUAGzRe2"
      },
      "source": [
        "# import sys  #顯示完整陣列\n",
        "# np.set_printoptions(threshold=sys.maxsize)\n",
        "# # print(img_array[0])"
      ],
      "id": "yK5hRUAGzRe2",
      "execution_count": null,
      "outputs": []
    },
    {
      "cell_type": "code",
      "metadata": {
        "id": "w-NIVYxKZcQE"
      },
      "source": [
        "from keras.models import Sequential\n",
        "from keras.layers import Dense\n",
        "from keras.layers import Dropout\n",
        "from keras.layers import Dense, Dropout, Flatten, Conv2D, MaxPooling2D"
      ],
      "id": "w-NIVYxKZcQE",
      "execution_count": null,
      "outputs": []
    },
    {
      "cell_type": "code",
      "metadata": {
        "id": "48RGe7tVZmKb"
      },
      "source": [
        "model = Sequential()"
      ],
      "id": "48RGe7tVZmKb",
      "execution_count": null,
      "outputs": []
    },
    {
      "cell_type": "code",
      "metadata": {
        "id": "494_XerhZeEE"
      },
      "source": [
        "model.add(Dense(units=1000, input_dim = 20000 , activation='relu'))"
      ],
      "id": "494_XerhZeEE",
      "execution_count": null,
      "outputs": []
    },
    {
      "cell_type": "code",
      "metadata": {
        "id": "JcEvvRisZqq8"
      },
      "source": [
        "model.add(Dropout(0.5))"
      ],
      "id": "JcEvvRisZqq8",
      "execution_count": null,
      "outputs": []
    },
    {
      "cell_type": "code",
      "metadata": {
        "id": "Bj0PmwS2ZtQe"
      },
      "source": [
        "model.add(Dense(units = 512 , activation = 'relu'))"
      ],
      "id": "Bj0PmwS2ZtQe",
      "execution_count": null,
      "outputs": []
    },
    {
      "cell_type": "code",
      "metadata": {
        "id": "u_cA0sqUZvPc"
      },
      "source": [
        "model.add(Dropout(0.5))"
      ],
      "id": "u_cA0sqUZvPc",
      "execution_count": null,
      "outputs": []
    },
    {
      "cell_type": "code",
      "metadata": {
        "id": "8RKSPQWZZwot"
      },
      "source": [
        "model.add(Dense(units=444, activation='softmax'))"
      ],
      "id": "8RKSPQWZZwot",
      "execution_count": null,
      "outputs": []
    },
    {
      "cell_type": "code",
      "metadata": {
        "colab": {
          "base_uri": "https://localhost:8080/"
        },
        "id": "da16AtifZzBt",
        "outputId": "0b694fe4-b047-4ce7-ff90-26fc1bedf9d7"
      },
      "source": [
        "print(model.summary())"
      ],
      "id": "da16AtifZzBt",
      "execution_count": null,
      "outputs": [
        {
          "output_type": "stream",
          "name": "stdout",
          "text": [
            "Model: \"sequential_6\"\n",
            "_________________________________________________________________\n",
            "Layer (type)                 Output Shape              Param #   \n",
            "=================================================================\n",
            "dense_19 (Dense)             (None, 1000)              20001000  \n",
            "_________________________________________________________________\n",
            "dropout_11 (Dropout)         (None, 1000)              0         \n",
            "_________________________________________________________________\n",
            "dense_20 (Dense)             (None, 512)               512512    \n",
            "_________________________________________________________________\n",
            "dropout_12 (Dropout)         (None, 512)               0         \n",
            "_________________________________________________________________\n",
            "dense_21 (Dense)             (None, 444)               227772    \n",
            "=================================================================\n",
            "Total params: 20,741,284\n",
            "Trainable params: 20,741,284\n",
            "Non-trainable params: 0\n",
            "_________________________________________________________________\n",
            "None\n"
          ]
        }
      ]
    },
    {
      "cell_type": "code",
      "metadata": {
        "id": "prb2ou5baFFk"
      },
      "source": [
        "model.compile(loss='mse', optimizer='adam')"
      ],
      "id": "prb2ou5baFFk",
      "execution_count": null,
      "outputs": []
    },
    {
      "cell_type": "code",
      "metadata": {
        "colab": {
          "base_uri": "https://localhost:8080/"
        },
        "id": "sWNsun0uaNCs",
        "outputId": "6b86da9b-1077-4624-ad57-440d3a3a4dbe"
      },
      "source": [
        "train_history = model.fit(x = img_array ,y = dict_str_2 ,epochs=10, batch_size=120,verbose=1)"
      ],
      "id": "sWNsun0uaNCs",
      "execution_count": null,
      "outputs": [
        {
          "output_type": "stream",
          "name": "stdout",
          "text": [
            "Epoch 1/10\n",
            "101/101 [==============================] - 24s 234ms/step - loss: 0.0239\n",
            "Epoch 2/10\n",
            "101/101 [==============================] - 23s 233ms/step - loss: 0.0240\n",
            "Epoch 3/10\n",
            "101/101 [==============================] - 24s 239ms/step - loss: 0.0239\n",
            "Epoch 4/10\n",
            "101/101 [==============================] - 23s 233ms/step - loss: 0.0239\n",
            "Epoch 5/10\n",
            "101/101 [==============================] - 23s 233ms/step - loss: 0.0240\n",
            "Epoch 6/10\n",
            "101/101 [==============================] - 24s 234ms/step - loss: 0.0240\n",
            "Epoch 7/10\n",
            "101/101 [==============================] - 24s 234ms/step - loss: 0.0240\n",
            "Epoch 8/10\n",
            "101/101 [==============================] - 24s 234ms/step - loss: 0.0240\n",
            "Epoch 9/10\n",
            "101/101 [==============================] - 24s 234ms/step - loss: 0.0240\n",
            "Epoch 10/10\n",
            "101/101 [==============================] - 24s 234ms/step - loss: 0.0240\n"
          ]
        }
      ]
    },
    {
      "cell_type": "code",
      "metadata": {
        "colab": {
          "base_uri": "https://localhost:8080/"
        },
        "id": "_k6sEqqo1Z_F",
        "outputId": "d1a9218f-f4cc-424d-ac0d-c202e75212e3"
      },
      "source": [
        "img_array.shape"
      ],
      "id": "_k6sEqqo1Z_F",
      "execution_count": null,
      "outputs": [
        {
          "output_type": "execute_result",
          "data": {
            "text/plain": [
              "(12067, 20000)"
            ]
          },
          "metadata": {},
          "execution_count": 237
        }
      ]
    },
    {
      "cell_type": "code",
      "metadata": {
        "colab": {
          "base_uri": "https://localhost:8080/"
        },
        "id": "BCFelaAd1un9",
        "outputId": "70c76b34-e399-4d3e-f5c2-d58caf1d15b1"
      },
      "source": [
        "model.evaluate(img_array, dict_str_2)"
      ],
      "id": "BCFelaAd1un9",
      "execution_count": null,
      "outputs": [
        {
          "output_type": "stream",
          "name": "stdout",
          "text": [
            "378/378 [==============================] - 15s 40ms/step - loss: 0.0240\n"
          ]
        },
        {
          "output_type": "execute_result",
          "data": {
            "text/plain": [
              "0.02395813539624214"
            ]
          },
          "metadata": {},
          "execution_count": 238
        }
      ]
    },
    {
      "cell_type": "code",
      "metadata": {
        "id": "JOCd7PQbwH1F"
      },
      "source": [
        "prediction=model.predict(img_array)"
      ],
      "id": "JOCd7PQbwH1F",
      "execution_count": null,
      "outputs": []
    },
    {
      "cell_type": "code",
      "metadata": {
        "id": "fW7EZLO-04ie"
      },
      "source": [
        "prediction.shape"
      ],
      "id": "fW7EZLO-04ie",
      "execution_count": null,
      "outputs": []
    },
    {
      "cell_type": "code",
      "metadata": {
        "id": "4rZEgUEN01HO"
      },
      "source": [
        "import sys  #顯示完整陣列\n",
        "np.set_printoptions(threshold=sys.maxsize)\n",
        "print(prediction[0])"
      ],
      "id": "4rZEgUEN01HO",
      "execution_count": null,
      "outputs": []
    },
    {
      "cell_type": "code",
      "metadata": {
        "id": "BfiZOGIcwftR"
      },
      "source": [
        "prediction = prediction.reshape(len(prediction), 12,37).astype('int')"
      ],
      "id": "BfiZOGIcwftR",
      "execution_count": null,
      "outputs": []
    },
    {
      "cell_type": "code",
      "metadata": {
        "id": "8V7B2ZrUVDBk",
        "colab": {
          "base_uri": "https://localhost:8080/"
        },
        "outputId": "92d59ab4-3fe0-4bfc-8ff8-84a0205b001a"
      },
      "source": [
        "prediction.shape"
      ],
      "id": "8V7B2ZrUVDBk",
      "execution_count": null,
      "outputs": [
        {
          "output_type": "execute_result",
          "data": {
            "text/plain": [
              "(12067, 12, 37)"
            ]
          },
          "metadata": {},
          "execution_count": 220
        }
      ]
    },
    {
      "cell_type": "code",
      "metadata": {
        "id": "uDspsxVEVMeJ"
      },
      "source": [
        "dict_ToAns = np.empty((len(prediction)) ,dtype=object)  "
      ],
      "id": "uDspsxVEVMeJ",
      "execution_count": null,
      "outputs": []
    },
    {
      "cell_type": "code",
      "metadata": {
        "id": "XuEuf5MMUPS_"
      },
      "source": [
        "for c in range(len(prediction)): #12067\n",
        "  str3 = \"\"\n",
        "  for b in range(len(dict_str[c])):  #12\n",
        "    for d in range(len(dict)):   #37\n",
        "      if(prediction[c][b][d]!=0):\n",
        "        str3 = str3 + dict[d]\n",
        "  dict_ToAns[c] = str3"
      ],
      "id": "XuEuf5MMUPS_",
      "execution_count": null,
      "outputs": []
    },
    {
      "cell_type": "code",
      "metadata": {
        "colab": {
          "base_uri": "https://localhost:8080/",
          "height": 35
        },
        "id": "0Nz9-j-Ow1ZU",
        "outputId": "d799635b-9244-4176-dcfb-8e103b7fdd92"
      },
      "source": [
        "dict_ToAns[0]"
      ],
      "id": "0Nz9-j-Ow1ZU",
      "execution_count": null,
      "outputs": [
        {
          "output_type": "execute_result",
          "data": {
            "application/vnd.google.colaboratory.intrinsic+json": {
              "type": "string"
            },
            "text/plain": [
              "'0'"
            ]
          },
          "metadata": {},
          "execution_count": 172
        }
      ]
    },
    {
      "cell_type": "code",
      "metadata": {
        "id": "aiobrshoxYtG"
      },
      "source": [
        "import matplotlib.pyplot as plt"
      ],
      "id": "aiobrshoxYtG",
      "execution_count": null,
      "outputs": []
    }
  ]
}