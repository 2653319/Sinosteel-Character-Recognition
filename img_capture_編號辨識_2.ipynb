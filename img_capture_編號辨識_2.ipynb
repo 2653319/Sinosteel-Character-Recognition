{
  "nbformat": 4,
  "nbformat_minor": 5,
  "metadata": {
    "kernelspec": {
      "display_name": "Python 3",
      "language": "python",
      "name": "python3"
    },
    "language_info": {
      "codemirror_mode": {
        "name": "ipython",
        "version": 3
      },
      "file_extension": ".py",
      "mimetype": "text/x-python",
      "name": "python",
      "nbconvert_exporter": "python",
      "pygments_lexer": "ipython3",
      "version": "3.7.6"
    },
    "colab": {
      "provenance": [],
      "collapsed_sections": [],
      "include_colab_link": true
    },
    "accelerator": "GPU"
  },
  "cells": [
    {
      "cell_type": "markdown",
      "metadata": {
        "id": "view-in-github",
        "colab_type": "text"
      },
      "source": [
        "<a href=\"https://colab.research.google.com/github/2653319/Sinosteel-Character-Recognition/blob/main/img_capture_%E7%B7%A8%E8%99%9F%E8%BE%A8%E8%AD%98_2.ipynb\" target=\"_parent\"><img src=\"https://colab.research.google.com/assets/colab-badge.svg\" alt=\"Open In Colab\"/></a>"
      ]
    },
    {
      "cell_type": "code",
      "metadata": {
        "id": "5a6d65c7"
      },
      "source": [
        "import os\n",
        "import pandas as pd\n",
        "import matplotlib\n",
        "import matplotlib.pyplot as plt\n",
        "import cv2\n",
        "import numpy as np\n",
        "from PIL import Image \n",
        "%matplotlib inline\n",
        "#!pwd"
      ],
      "id": "5a6d65c7",
      "execution_count": null,
      "outputs": []
    },
    {
      "cell_type": "code",
      "metadata": {
        "id": "0tGbP929rBKj",
        "colab": {
          "base_uri": "https://localhost:8080/"
        },
        "outputId": "b3f8e8f4-2ab2-43a9-c9ba-16d6937dc0b0"
      },
      "source": [
        "from google.colab import drive\n",
        "drive.mount('/content/drive')"
      ],
      "id": "0tGbP929rBKj",
      "execution_count": null,
      "outputs": [
        {
          "output_type": "stream",
          "name": "stdout",
          "text": [
            "Drive already mounted at /content/drive; to attempt to forcibly remount, call drive.mount(\"/content/drive\", force_remount=True).\n"
          ]
        }
      ]
    },
    {
      "cell_type": "code",
      "metadata": {
        "id": "cdb73573",
        "colab": {
          "base_uri": "https://localhost:8080/",
          "height": 461
        },
        "outputId": "e32c401f-2970-4b9f-9322-d0ad9ddb1188"
      },
      "source": [
        "df_train = pd.read_csv('public_training_data.csv') #訓練CSV\n",
        "df_train"
      ],
      "id": "cdb73573",
      "execution_count": null,
      "outputs": [
        {
          "output_type": "execute_result",
          "data": {
            "text/html": [
              "<div>\n",
              "<style scoped>\n",
              "    .dataframe tbody tr th:only-of-type {\n",
              "        vertical-align: middle;\n",
              "    }\n",
              "\n",
              "    .dataframe tbody tr th {\n",
              "        vertical-align: top;\n",
              "    }\n",
              "\n",
              "    .dataframe thead th {\n",
              "        text-align: right;\n",
              "    }\n",
              "</style>\n",
              "<table border=\"1\" class=\"dataframe\">\n",
              "  <thead>\n",
              "    <tr style=\"text-align: right;\">\n",
              "      <th></th>\n",
              "      <th>filename</th>\n",
              "      <th>label</th>\n",
              "      <th>top right x</th>\n",
              "      <th>top right y</th>\n",
              "      <th>bottom right x</th>\n",
              "      <th>bottom right y</th>\n",
              "      <th>bottom left x</th>\n",
              "      <th>bottom left y</th>\n",
              "      <th>top left x</th>\n",
              "      <th>top left y</th>\n",
              "    </tr>\n",
              "  </thead>\n",
              "  <tbody>\n",
              "    <tr>\n",
              "      <th>0</th>\n",
              "      <td>oR72wdOuzdHVh3sMMmC4gMG2aG5jeub</td>\n",
              "      <td>3LN996012F</td>\n",
              "      <td>706.84430</td>\n",
              "      <td>411.87338</td>\n",
              "      <td>707.51070</td>\n",
              "      <td>455.82960</td>\n",
              "      <td>371.28748</td>\n",
              "      <td>462.13885</td>\n",
              "      <td>370.62106</td>\n",
              "      <td>418.18262</td>\n",
              "    </tr>\n",
              "    <tr>\n",
              "      <th>1</th>\n",
              "      <td>7VVWhb6tKde=x=w5x6_p=lfcTlGTBa</td>\n",
              "      <td>2FV271041L</td>\n",
              "      <td>767.03550</td>\n",
              "      <td>426.20898</td>\n",
              "      <td>767.60080</td>\n",
              "      <td>488.00024</td>\n",
              "      <td>428.13678</td>\n",
              "      <td>491.84418</td>\n",
              "      <td>427.57147</td>\n",
              "      <td>430.05290</td>\n",
              "    </tr>\n",
              "    <tr>\n",
              "      <th>2</th>\n",
              "      <td>VweTPTTYjERnFWFr3R7=YFKrj9NBT1Lg</td>\n",
              "      <td>2FV413012A</td>\n",
              "      <td>840.83276</td>\n",
              "      <td>495.59230</td>\n",
              "      <td>841.15540</td>\n",
              "      <td>551.61390</td>\n",
              "      <td>421.96686</td>\n",
              "      <td>554.60376</td>\n",
              "      <td>421.64413</td>\n",
              "      <td>498.58215</td>\n",
              "    </tr>\n",
              "    <tr>\n",
              "      <th>3</th>\n",
              "      <td>XOIg4ZPERXLzBmsdMd4XNHYH1r=Urbr</td>\n",
              "      <td>3LP563013A</td>\n",
              "      <td>871.62260</td>\n",
              "      <td>522.91460</td>\n",
              "      <td>872.52136</td>\n",
              "      <td>593.15930</td>\n",
              "      <td>352.70407</td>\n",
              "      <td>601.39160</td>\n",
              "      <td>351.80527</td>\n",
              "      <td>531.14690</td>\n",
              "    </tr>\n",
              "    <tr>\n",
              "      <th>4</th>\n",
              "      <td>jm85agd8RyzlDBl6jjnpypYIuVw7BTvb</td>\n",
              "      <td>3LR436033F</td>\n",
              "      <td>837.74120</td>\n",
              "      <td>424.97200</td>\n",
              "      <td>838.30910</td>\n",
              "      <td>474.88922</td>\n",
              "      <td>469.82086</td>\n",
              "      <td>480.07870</td>\n",
              "      <td>469.25296</td>\n",
              "      <td>430.16144</td>\n",
              "    </tr>\n",
              "    <tr>\n",
              "      <th>...</th>\n",
              "      <td>...</td>\n",
              "      <td>...</td>\n",
              "      <td>...</td>\n",
              "      <td>...</td>\n",
              "      <td>...</td>\n",
              "      <td>...</td>\n",
              "      <td>...</td>\n",
              "      <td>...</td>\n",
              "      <td>...</td>\n",
              "      <td>...</td>\n",
              "    </tr>\n",
              "    <tr>\n",
              "      <th>12062</th>\n",
              "      <td>KVbBuo6P=Pv4FsTMGW84LHFgiK2H2=nU</td>\n",
              "      <td>3LZ146042A</td>\n",
              "      <td>879.31635</td>\n",
              "      <td>445.65146</td>\n",
              "      <td>880.98413</td>\n",
              "      <td>500.45438</td>\n",
              "      <td>487.31512</td>\n",
              "      <td>512.43494</td>\n",
              "      <td>485.64730</td>\n",
              "      <td>457.63205</td>\n",
              "    </tr>\n",
              "    <tr>\n",
              "      <th>12063</th>\n",
              "      <td>mVE9bWuj9S_vFwQHEIH_e5mMZ4javQF8</td>\n",
              "      <td>2G2204042K</td>\n",
              "      <td>873.36597</td>\n",
              "      <td>478.13287</td>\n",
              "      <td>874.51770</td>\n",
              "      <td>526.46520</td>\n",
              "      <td>477.86438</td>\n",
              "      <td>535.91770</td>\n",
              "      <td>476.71262</td>\n",
              "      <td>487.58540</td>\n",
              "    </tr>\n",
              "    <tr>\n",
              "      <th>12064</th>\n",
              "      <td>glBWhEUeVftedEqw=qq=mzBrC=gwMyFs</td>\n",
              "      <td>2FM573063K</td>\n",
              "      <td>852.99220</td>\n",
              "      <td>498.73690</td>\n",
              "      <td>853.77070</td>\n",
              "      <td>557.14670</td>\n",
              "      <td>414.06592</td>\n",
              "      <td>563.00720</td>\n",
              "      <td>413.28740</td>\n",
              "      <td>504.59738</td>\n",
              "    </tr>\n",
              "    <tr>\n",
              "      <th>12065</th>\n",
              "      <td>Xv19H4GQWajfdKTsHBcJoz8RaKTVa7BR</td>\n",
              "      <td>1WG43V203</td>\n",
              "      <td>762.74390</td>\n",
              "      <td>447.21410</td>\n",
              "      <td>763.09863</td>\n",
              "      <td>496.17346</td>\n",
              "      <td>475.32275</td>\n",
              "      <td>498.25880</td>\n",
              "      <td>474.96802</td>\n",
              "      <td>449.29944</td>\n",
              "    </tr>\n",
              "    <tr>\n",
              "      <th>12066</th>\n",
              "      <td>=drtICRLovBY88qkf_ESb5kX6iiGMX</td>\n",
              "      <td>1W8935042F</td>\n",
              "      <td>885.47296</td>\n",
              "      <td>461.75850</td>\n",
              "      <td>886.54285</td>\n",
              "      <td>519.04090</td>\n",
              "      <td>459.75897</td>\n",
              "      <td>527.01220</td>\n",
              "      <td>458.68906</td>\n",
              "      <td>469.72983</td>\n",
              "    </tr>\n",
              "  </tbody>\n",
              "</table>\n",
              "<p>12067 rows × 10 columns</p>\n",
              "</div>"
            ],
            "text/plain": [
              "                               filename       label  ...  top left x  top left y\n",
              "0       oR72wdOuzdHVh3sMMmC4gMG2aG5jeub  3LN996012F  ...   370.62106   418.18262\n",
              "1        7VVWhb6tKde=x=w5x6_p=lfcTlGTBa  2FV271041L  ...   427.57147   430.05290\n",
              "2      VweTPTTYjERnFWFr3R7=YFKrj9NBT1Lg  2FV413012A  ...   421.64413   498.58215\n",
              "3       XOIg4ZPERXLzBmsdMd4XNHYH1r=Urbr  3LP563013A  ...   351.80527   531.14690\n",
              "4      jm85agd8RyzlDBl6jjnpypYIuVw7BTvb  3LR436033F  ...   469.25296   430.16144\n",
              "...                                 ...         ...  ...         ...         ...\n",
              "12062  KVbBuo6P=Pv4FsTMGW84LHFgiK2H2=nU  3LZ146042A  ...   485.64730   457.63205\n",
              "12063  mVE9bWuj9S_vFwQHEIH_e5mMZ4javQF8  2G2204042K  ...   476.71262   487.58540\n",
              "12064  glBWhEUeVftedEqw=qq=mzBrC=gwMyFs  2FM573063K  ...   413.28740   504.59738\n",
              "12065  Xv19H4GQWajfdKTsHBcJoz8RaKTVa7BR   1WG43V203  ...   474.96802   449.29944\n",
              "12066    =drtICRLovBY88qkf_ESb5kX6iiGMX  1W8935042F  ...   458.68906   469.72983\n",
              "\n",
              "[12067 rows x 10 columns]"
            ]
          },
          "metadata": {},
          "execution_count": 6
        }
      ]
    },
    {
      "cell_type": "code",
      "metadata": {
        "id": "S3JLGSteWlCP"
      },
      "source": [
        "df_path = pd.DataFrame('drive/MyDrive/new_public_training_data/' + df_train['label'] + '.jpg') #訓練圖片"
      ],
      "id": "S3JLGSteWlCP",
      "execution_count": null,
      "outputs": []
    },
    {
      "cell_type": "code",
      "metadata": {
        "colab": {
          "base_uri": "https://localhost:8080/",
          "height": 35
        },
        "id": "BF_aQUK7fShM",
        "outputId": "c0c9b82c-c370-41bf-bbb0-5169c611db51"
      },
      "source": [
        "df_path['label'][0]"
      ],
      "id": "BF_aQUK7fShM",
      "execution_count": null,
      "outputs": [
        {
          "output_type": "execute_result",
          "data": {
            "application/vnd.google.colaboratory.intrinsic+json": {
              "type": "string"
            },
            "text/plain": [
              "'drive/MyDrive/new_public_training_data/3LN996012F.jpg'"
            ]
          },
          "metadata": {},
          "execution_count": 8
        }
      ]
    },
    {
      "cell_type": "code",
      "metadata": {
        "id": "FMV795MVAekq"
      },
      "source": [
        "# for h in range(len(df_path)):  #縮放全部圖片\n",
        "#     img = cv2.cvtColor(cv2.imread(df_path['label'][h]), cv2.COLOR_BGR2RGB)\n",
        "#     image = cv2.resize(img, (256, 256), interpolation=cv2.INTER_AREA)   \n",
        "#     if(h % 10 == 0):\n",
        "#         print(\"h:\" + str(h))\n",
        "#     cv2.imwrite('drive/MyDrive/Resize_public_training_data/' + df_train['label'][h] + '.jpg', image)  #寫入檔案"
      ],
      "id": "FMV795MVAekq",
      "execution_count": null,
      "outputs": []
    },
    {
      "cell_type": "code",
      "metadata": {
        "id": "D8LfKtNI7mOE"
      },
      "source": [
        "df_cut = pd.DataFrame('drive/MyDrive/Resize_public_training_data/' + df_train['label'] + '.jpg')"
      ],
      "id": "D8LfKtNI7mOE",
      "execution_count": null,
      "outputs": []
    },
    {
      "cell_type": "code",
      "metadata": {
        "id": "Fzwimjyo9EAO"
      },
      "source": [
        "img_array = np.zeros((len(df_cut), 256,256), dtype=np.int)"
      ],
      "id": "Fzwimjyo9EAO",
      "execution_count": null,
      "outputs": []
    },
    {
      "cell_type": "code",
      "metadata": {
        "id": "f9f52ae2"
      },
      "source": [
        "for c in range(len(df_cut)):\n",
        "  I = Image.open(df_cut['label'][c])\n",
        "  L = I.convert('L')\n",
        "  img = np.array(L)\n",
        "  img_array[c] = img"
      ],
      "id": "f9f52ae2",
      "execution_count": null,
      "outputs": []
    },
    {
      "cell_type": "code",
      "metadata": {
        "id": "UA61H8FGmQhZ"
      },
      "source": [
        "# img_array = np.expand_dims(img_array, axis=-1)\n",
        "img_array = img_array.reshape(len(img_array), 65536).astype('int')"
      ],
      "id": "UA61H8FGmQhZ",
      "execution_count": null,
      "outputs": []
    },
    {
      "cell_type": "code",
      "metadata": {
        "id": "uUKMj30aYVb3"
      },
      "source": [
        "len(img_array)"
      ],
      "id": "uUKMj30aYVb3",
      "execution_count": null,
      "outputs": []
    },
    {
      "cell_type": "code",
      "metadata": {
        "id": "iComAyJS-LXN"
      },
      "source": [
        "img_array.shape  #題目"
      ],
      "id": "iComAyJS-LXN",
      "execution_count": null,
      "outputs": []
    },
    {
      "cell_type": "code",
      "metadata": {
        "id": "ANjxKwiZLRnm"
      },
      "source": [
        "dict = ['Nashi','A','B','C','D','E','F','G','H','I','J','K','L','M','N','O','P','Q','R','S','T','U','V','W','X','Y','Z','0','1','2','3','4','5','6','7','8','9']"
      ],
      "id": "ANjxKwiZLRnm",
      "execution_count": null,
      "outputs": []
    },
    {
      "cell_type": "code",
      "metadata": {
        "id": "Op8Uc-5iajQ6"
      },
      "source": [
        "leng = []  #查看最大值用來建立字典\n",
        "for z in range(len(df_train)):\n",
        "  leng.append(len(df_train['label'][z]))\n",
        "z = max(leng)"
      ],
      "id": "Op8Uc-5iajQ6",
      "execution_count": null,
      "outputs": []
    },
    {
      "cell_type": "code",
      "metadata": {
        "id": "3KaFJZ2lS4-3"
      },
      "source": [
        "dict_str = np.zeros(((len(df_train)), z,37), dtype=np.int)\n",
        "# dict_str = np.empty((len(df_train), z ),dtype=object)"
      ],
      "id": "3KaFJZ2lS4-3",
      "execution_count": null,
      "outputs": []
    },
    {
      "cell_type": "code",
      "metadata": {
        "id": "XvfkU1KOY0j6"
      },
      "source": [
        "for i in range(len(df_train)):   #將答案根據字典轉換\n",
        "  str1 = list(df_train['label'][i])\n",
        "  for j in range(len(str1)):\n",
        "    for k in range(37):\n",
        "      if(str1[j] == dict[k]):\n",
        "        dict_str[i][j][k] = 1\n",
        "        break"
      ],
      "id": "XvfkU1KOY0j6",
      "execution_count": null,
      "outputs": []
    },
    {
      "cell_type": "code",
      "metadata": {
        "id": "3l3zxtO8jR6U"
      },
      "source": [
        "dict_str.shape  #答案"
      ],
      "id": "3l3zxtO8jR6U",
      "execution_count": null,
      "outputs": []
    },
    {
      "cell_type": "code",
      "metadata": {
        "id": "fnKAdSM8u7gO"
      },
      "source": [
        "dict_str_2 = dict_str.reshape(len(dict_str), 444).astype('int')"
      ],
      "id": "fnKAdSM8u7gO",
      "execution_count": null,
      "outputs": []
    },
    {
      "cell_type": "code",
      "metadata": {
        "id": "yK5hRUAGzRe2"
      },
      "source": [
        "# import sys  #顯示完整陣列\n",
        "# np.set_printoptions(threshold=sys.maxsize)\n",
        "# # print(img_array[0])"
      ],
      "id": "yK5hRUAGzRe2",
      "execution_count": null,
      "outputs": []
    },
    {
      "cell_type": "code",
      "metadata": {
        "id": "w-NIVYxKZcQE"
      },
      "source": [
        "from keras.models import Sequential\n",
        "from keras.layers import Dense\n",
        "from keras.layers import Dropout\n",
        "from keras.layers import Dense, Dropout, Flatten, Conv2D, MaxPooling2D"
      ],
      "id": "w-NIVYxKZcQE",
      "execution_count": null,
      "outputs": []
    },
    {
      "cell_type": "code",
      "metadata": {
        "id": "48RGe7tVZmKb"
      },
      "source": [
        "model = Sequential()"
      ],
      "id": "48RGe7tVZmKb",
      "execution_count": null,
      "outputs": []
    },
    {
      "cell_type": "code",
      "metadata": {
        "id": "yVvagvKhol7_"
      },
      "source": [
        "# model.add(Flatten(input_shape = (256,256)))"
      ],
      "id": "yVvagvKhol7_",
      "execution_count": null,
      "outputs": []
    },
    {
      "cell_type": "code",
      "metadata": {
        "id": "494_XerhZeEE"
      },
      "source": [
        "model.add(Dense(units=1000, input_dim = 65536 , kernel_initializer = 'normal', activation='relu'))"
      ],
      "id": "494_XerhZeEE",
      "execution_count": null,
      "outputs": []
    },
    {
      "cell_type": "code",
      "metadata": {
        "id": "JcEvvRisZqq8"
      },
      "source": [
        "model.add(Dropout(0.5))"
      ],
      "id": "JcEvvRisZqq8",
      "execution_count": null,
      "outputs": []
    },
    {
      "cell_type": "code",
      "metadata": {
        "id": "Bj0PmwS2ZtQe"
      },
      "source": [
        "model.add(Dense(units = 256 , kernel_initializer = 'normal' , activation = 'relu'))"
      ],
      "id": "Bj0PmwS2ZtQe",
      "execution_count": null,
      "outputs": []
    },
    {
      "cell_type": "code",
      "metadata": {
        "id": "u_cA0sqUZvPc"
      },
      "source": [
        "model.add(Dropout(0.5))"
      ],
      "id": "u_cA0sqUZvPc",
      "execution_count": null,
      "outputs": []
    },
    {
      "cell_type": "code",
      "metadata": {
        "id": "8RKSPQWZZwot"
      },
      "source": [
        "model.add(Dense(units=444, kernel_initializer = 'normal', activation='softmax'))"
      ],
      "id": "8RKSPQWZZwot",
      "execution_count": null,
      "outputs": []
    },
    {
      "cell_type": "code",
      "metadata": {
        "id": "da16AtifZzBt"
      },
      "source": [
        "print(model.summary())"
      ],
      "id": "da16AtifZzBt",
      "execution_count": null,
      "outputs": []
    },
    {
      "cell_type": "code",
      "metadata": {
        "id": "prb2ou5baFFk"
      },
      "source": [
        "model.compile(loss='categorical_crossentropy',optimizer='adam', metrics=['accuracy'])"
      ],
      "id": "prb2ou5baFFk",
      "execution_count": null,
      "outputs": []
    },
    {
      "cell_type": "code",
      "metadata": {
        "id": "sWNsun0uaNCs"
      },
      "source": [
        "train_history = model.fit(x = img_array ,y = dict_str_2 ,validation_split=0.2,epochs=100, batch_size=120,verbose=2)"
      ],
      "id": "sWNsun0uaNCs",
      "execution_count": null,
      "outputs": []
    },
    {
      "cell_type": "code",
      "metadata": {
        "id": "JOCd7PQbwH1F"
      },
      "source": [
        "prediction=model.predict(img_array)"
      ],
      "id": "JOCd7PQbwH1F",
      "execution_count": null,
      "outputs": []
    },
    {
      "cell_type": "code",
      "metadata": {
        "id": "oxXHgmDGwdhF"
      },
      "source": [
        "prediction.shape"
      ],
      "id": "oxXHgmDGwdhF",
      "execution_count": null,
      "outputs": []
    },
    {
      "cell_type": "code",
      "metadata": {
        "id": "BfiZOGIcwftR"
      },
      "source": [
        "prediction = prediction.reshape(len(prediction), 12,37).astype('float32')"
      ],
      "id": "BfiZOGIcwftR",
      "execution_count": null,
      "outputs": []
    },
    {
      "cell_type": "code",
      "metadata": {
        "id": "8V7B2ZrUVDBk"
      },
      "source": [
        "prediction.shape"
      ],
      "id": "8V7B2ZrUVDBk",
      "execution_count": null,
      "outputs": []
    },
    {
      "cell_type": "code",
      "metadata": {
        "id": "3IM4vHkLwpQl"
      },
      "source": [
        "prediction[0]"
      ],
      "id": "3IM4vHkLwpQl",
      "execution_count": null,
      "outputs": []
    },
    {
      "cell_type": "code",
      "metadata": {
        "id": "uDspsxVEVMeJ"
      },
      "source": [
        "dict_ToAns = np.empty((len(prediction)) ,dtype=object)  "
      ],
      "id": "uDspsxVEVMeJ",
      "execution_count": null,
      "outputs": []
    },
    {
      "cell_type": "code",
      "metadata": {
        "id": "XuEuf5MMUPS_"
      },
      "source": [
        "for c in range(len(prediction)): #12067\n",
        "  str3 = \"\"\n",
        "  for b in range(len(dict_str[c])):  #12\n",
        "    for d in range(len(dict)):   #37\n",
        "      if(prediction[c][b][d]!=0):\n",
        "        str3 = str3 + dict[d]\n",
        "  dict_ToAns[c] = str3"
      ],
      "id": "XuEuf5MMUPS_",
      "execution_count": null,
      "outputs": []
    }
  ]
}