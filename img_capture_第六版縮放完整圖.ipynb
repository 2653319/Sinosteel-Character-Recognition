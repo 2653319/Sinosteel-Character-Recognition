{
 "cells": [
  {
   "cell_type": "code",
   "execution_count": 1,
   "id": "5a6d65c7",
   "metadata": {
    "id": "5a6d65c7"
   },
   "outputs": [],
   "source": [
    "import os\n",
    "import pandas as pd\n",
    "import matplotlib\n",
    "import matplotlib.pyplot as plt\n",
    "import cv2\n",
    "import numpy as np\n",
    "from PIL import Image \n",
    "%matplotlib inline\n",
    "#!pwd"
   ]
  },
  {
   "cell_type": "markdown",
   "id": "7df7649a",
   "metadata": {
    "colab": {
     "base_uri": "https://localhost:8080/"
    },
    "id": "0tGbP929rBKj",
    "outputId": "d07f6476-00a9-417e-e284-6e4c1d5dbbcb"
   },
   "source": [
    "from google.colab import drive\n",
    "drive.mount('/content/drive')"
   ]
  },
  {
   "cell_type": "code",
   "execution_count": 3,
   "id": "cdb73573",
   "metadata": {
    "colab": {
     "base_uri": "https://localhost:8080/",
     "height": 461
    },
    "id": "cdb73573",
    "outputId": "a46d9149-d509-44ed-8283-129727938f27"
   },
   "outputs": [
    {
     "data": {
      "text/html": [
       "<div>\n",
       "<style scoped>\n",
       "    .dataframe tbody tr th:only-of-type {\n",
       "        vertical-align: middle;\n",
       "    }\n",
       "\n",
       "    .dataframe tbody tr th {\n",
       "        vertical-align: top;\n",
       "    }\n",
       "\n",
       "    .dataframe thead th {\n",
       "        text-align: right;\n",
       "    }\n",
       "</style>\n",
       "<table border=\"1\" class=\"dataframe\">\n",
       "  <thead>\n",
       "    <tr style=\"text-align: right;\">\n",
       "      <th></th>\n",
       "      <th>filename</th>\n",
       "      <th>label</th>\n",
       "      <th>top right x</th>\n",
       "      <th>top right y</th>\n",
       "      <th>bottom right x</th>\n",
       "      <th>bottom right y</th>\n",
       "      <th>bottom left x</th>\n",
       "      <th>bottom left y</th>\n",
       "      <th>top left x</th>\n",
       "      <th>top left y</th>\n",
       "    </tr>\n",
       "  </thead>\n",
       "  <tbody>\n",
       "    <tr>\n",
       "      <th>0</th>\n",
       "      <td>oR72wdOuzdHVh3sMMmC4gMG2aG5jeub</td>\n",
       "      <td>3LN996012F</td>\n",
       "      <td>706.84430</td>\n",
       "      <td>411.87338</td>\n",
       "      <td>707.51070</td>\n",
       "      <td>455.82960</td>\n",
       "      <td>371.28748</td>\n",
       "      <td>462.13885</td>\n",
       "      <td>370.62106</td>\n",
       "      <td>418.18262</td>\n",
       "    </tr>\n",
       "    <tr>\n",
       "      <th>1</th>\n",
       "      <td>7VVWhb6tKde=x=w5x6_p=lfcTlGTBa</td>\n",
       "      <td>2FV271041L</td>\n",
       "      <td>767.03550</td>\n",
       "      <td>426.20898</td>\n",
       "      <td>767.60080</td>\n",
       "      <td>488.00024</td>\n",
       "      <td>428.13678</td>\n",
       "      <td>491.84418</td>\n",
       "      <td>427.57147</td>\n",
       "      <td>430.05290</td>\n",
       "    </tr>\n",
       "    <tr>\n",
       "      <th>2</th>\n",
       "      <td>VweTPTTYjERnFWFr3R7=YFKrj9NBT1Lg</td>\n",
       "      <td>2FV413012A</td>\n",
       "      <td>840.83276</td>\n",
       "      <td>495.59230</td>\n",
       "      <td>841.15540</td>\n",
       "      <td>551.61390</td>\n",
       "      <td>421.96686</td>\n",
       "      <td>554.60376</td>\n",
       "      <td>421.64413</td>\n",
       "      <td>498.58215</td>\n",
       "    </tr>\n",
       "    <tr>\n",
       "      <th>3</th>\n",
       "      <td>XOIg4ZPERXLzBmsdMd4XNHYH1r=Urbr</td>\n",
       "      <td>3LP563013A</td>\n",
       "      <td>871.62260</td>\n",
       "      <td>522.91460</td>\n",
       "      <td>872.52136</td>\n",
       "      <td>593.15930</td>\n",
       "      <td>352.70407</td>\n",
       "      <td>601.39160</td>\n",
       "      <td>351.80527</td>\n",
       "      <td>531.14690</td>\n",
       "    </tr>\n",
       "    <tr>\n",
       "      <th>4</th>\n",
       "      <td>jm85agd8RyzlDBl6jjnpypYIuVw7BTvb</td>\n",
       "      <td>3LR436033F</td>\n",
       "      <td>837.74120</td>\n",
       "      <td>424.97200</td>\n",
       "      <td>838.30910</td>\n",
       "      <td>474.88922</td>\n",
       "      <td>469.82086</td>\n",
       "      <td>480.07870</td>\n",
       "      <td>469.25296</td>\n",
       "      <td>430.16144</td>\n",
       "    </tr>\n",
       "    <tr>\n",
       "      <th>...</th>\n",
       "      <td>...</td>\n",
       "      <td>...</td>\n",
       "      <td>...</td>\n",
       "      <td>...</td>\n",
       "      <td>...</td>\n",
       "      <td>...</td>\n",
       "      <td>...</td>\n",
       "      <td>...</td>\n",
       "      <td>...</td>\n",
       "      <td>...</td>\n",
       "    </tr>\n",
       "    <tr>\n",
       "      <th>12062</th>\n",
       "      <td>KVbBuo6P=Pv4FsTMGW84LHFgiK2H2=nU</td>\n",
       "      <td>3LZ146042A</td>\n",
       "      <td>879.31635</td>\n",
       "      <td>445.65146</td>\n",
       "      <td>880.98413</td>\n",
       "      <td>500.45438</td>\n",
       "      <td>487.31512</td>\n",
       "      <td>512.43494</td>\n",
       "      <td>485.64730</td>\n",
       "      <td>457.63205</td>\n",
       "    </tr>\n",
       "    <tr>\n",
       "      <th>12063</th>\n",
       "      <td>mVE9bWuj9S_vFwQHEIH_e5mMZ4javQF8</td>\n",
       "      <td>2G2204042K</td>\n",
       "      <td>873.36597</td>\n",
       "      <td>478.13287</td>\n",
       "      <td>874.51770</td>\n",
       "      <td>526.46520</td>\n",
       "      <td>477.86438</td>\n",
       "      <td>535.91770</td>\n",
       "      <td>476.71262</td>\n",
       "      <td>487.58540</td>\n",
       "    </tr>\n",
       "    <tr>\n",
       "      <th>12064</th>\n",
       "      <td>glBWhEUeVftedEqw=qq=mzBrC=gwMyFs</td>\n",
       "      <td>2FM573063K</td>\n",
       "      <td>852.99220</td>\n",
       "      <td>498.73690</td>\n",
       "      <td>853.77070</td>\n",
       "      <td>557.14670</td>\n",
       "      <td>414.06592</td>\n",
       "      <td>563.00720</td>\n",
       "      <td>413.28740</td>\n",
       "      <td>504.59738</td>\n",
       "    </tr>\n",
       "    <tr>\n",
       "      <th>12065</th>\n",
       "      <td>Xv19H4GQWajfdKTsHBcJoz8RaKTVa7BR</td>\n",
       "      <td>1WG43V203</td>\n",
       "      <td>762.74390</td>\n",
       "      <td>447.21410</td>\n",
       "      <td>763.09863</td>\n",
       "      <td>496.17346</td>\n",
       "      <td>475.32275</td>\n",
       "      <td>498.25880</td>\n",
       "      <td>474.96802</td>\n",
       "      <td>449.29944</td>\n",
       "    </tr>\n",
       "    <tr>\n",
       "      <th>12066</th>\n",
       "      <td>=drtICRLovBY88qkf_ESb5kX6iiGMX</td>\n",
       "      <td>1W8935042F</td>\n",
       "      <td>885.47296</td>\n",
       "      <td>461.75850</td>\n",
       "      <td>886.54285</td>\n",
       "      <td>519.04090</td>\n",
       "      <td>459.75897</td>\n",
       "      <td>527.01220</td>\n",
       "      <td>458.68906</td>\n",
       "      <td>469.72983</td>\n",
       "    </tr>\n",
       "  </tbody>\n",
       "</table>\n",
       "<p>12067 rows × 10 columns</p>\n",
       "</div>"
      ],
      "text/plain": [
       "                               filename       label  ...  top left x  top left y\n",
       "0       oR72wdOuzdHVh3sMMmC4gMG2aG5jeub  3LN996012F  ...   370.62106   418.18262\n",
       "1        7VVWhb6tKde=x=w5x6_p=lfcTlGTBa  2FV271041L  ...   427.57147   430.05290\n",
       "2      VweTPTTYjERnFWFr3R7=YFKrj9NBT1Lg  2FV413012A  ...   421.64413   498.58215\n",
       "3       XOIg4ZPERXLzBmsdMd4XNHYH1r=Urbr  3LP563013A  ...   351.80527   531.14690\n",
       "4      jm85agd8RyzlDBl6jjnpypYIuVw7BTvb  3LR436033F  ...   469.25296   430.16144\n",
       "...                                 ...         ...  ...         ...         ...\n",
       "12062  KVbBuo6P=Pv4FsTMGW84LHFgiK2H2=nU  3LZ146042A  ...   485.64730   457.63205\n",
       "12063  mVE9bWuj9S_vFwQHEIH_e5mMZ4javQF8  2G2204042K  ...   476.71262   487.58540\n",
       "12064  glBWhEUeVftedEqw=qq=mzBrC=gwMyFs  2FM573063K  ...   413.28740   504.59738\n",
       "12065  Xv19H4GQWajfdKTsHBcJoz8RaKTVa7BR   1WG43V203  ...   474.96802   449.29944\n",
       "12066    =drtICRLovBY88qkf_ESb5kX6iiGMX  1W8935042F  ...   458.68906   469.72983\n",
       "\n",
       "[12067 rows x 10 columns]"
      ]
     },
     "execution_count": 3,
     "metadata": {},
     "output_type": "execute_result"
    }
   ],
   "source": [
    "df_train = pd.read_csv('public_training_data.csv') #訓練CSV\n",
    "df_train"
   ]
  },
  {
   "cell_type": "code",
   "execution_count": 4,
   "id": "S3JLGSteWlCP",
   "metadata": {
    "id": "S3JLGSteWlCP"
   },
   "outputs": [],
   "source": [
    "df_path = pd.DataFrame('drive/MyDrive/new_public_training_data/' + df_train['label'] + '.jpg') #訓練圖片"
   ]
  },
  {
   "cell_type": "code",
   "execution_count": 5,
   "id": "BF_aQUK7fShM",
   "metadata": {
    "colab": {
     "base_uri": "https://localhost:8080/",
     "height": 35
    },
    "id": "BF_aQUK7fShM",
    "outputId": "9a3629f9-1c9b-4c00-b6ce-888d1d6e141f"
   },
   "outputs": [
    {
     "data": {
      "application/vnd.google.colaboratory.intrinsic+json": {
       "type": "string"
      },
      "text/plain": [
       "'drive/MyDrive/new_public_training_data/3LN996012F.jpg'"
      ]
     },
     "execution_count": 5,
     "metadata": {},
     "output_type": "execute_result"
    }
   ],
   "source": [
    "df_path['label'][0]"
   ]
  },
  {
   "cell_type": "code",
   "execution_count": 6,
   "id": "FMV795MVAekq",
   "metadata": {
    "id": "FMV795MVAekq"
   },
   "outputs": [],
   "source": [
    "# for h in range(len(df_path)):  #縮放全部圖片\n",
    "#     img = cv2.cvtColor(cv2.imread(df_path['label'][h]), cv2.COLOR_BGR2RGB)\n",
    "#     image = cv2.resize(img, (256, 256), interpolation=cv2.INTER_AREA)   \n",
    "#     if(h % 10 == 0):\n",
    "#         print(\"h:\" + str(h))\n",
    "#     cv2.imwrite('drive/MyDrive/Resize_public_training_data/' + df_train['label'][h] + '.jpg', image)  #寫入檔案"
   ]
  },
  {
   "cell_type": "code",
   "execution_count": 6,
   "id": "D8LfKtNI7mOE",
   "metadata": {
    "id": "D8LfKtNI7mOE"
   },
   "outputs": [],
   "source": [
    "df_cut = pd.DataFrame('drive/MyDrive/Resize_public_training_data/' + df_train['label'] + '.jpg')"
   ]
  },
  {
   "cell_type": "code",
   "execution_count": 7,
   "id": "Fzwimjyo9EAO",
   "metadata": {
    "id": "Fzwimjyo9EAO"
   },
   "outputs": [],
   "source": [
    "img_array = np.zeros((len(df_cut)-567, 256,256), dtype=np.int)"
   ]
  },
  {
   "cell_type": "code",
   "execution_count": 8,
   "id": "f9f52ae2",
   "metadata": {
    "colab": {
     "base_uri": "https://localhost:8080/"
    },
    "id": "f9f52ae2",
    "outputId": "e1127681-3cef-4d29-fe8f-f5fc9409df81"
   },
   "outputs": [
    {
     "name": "stdout",
     "output_type": "stream",
     "text": [
      "c :  0\n",
      "c :  50\n",
      "c :  100\n",
      "c :  150\n",
      "c :  200\n",
      "c :  250\n",
      "c :  300\n",
      "c :  350\n",
      "c :  400\n",
      "c :  450\n",
      "c :  500\n",
      "c :  550\n",
      "c :  600\n",
      "c :  650\n",
      "c :  700\n",
      "c :  750\n",
      "c :  800\n",
      "c :  850\n",
      "c :  900\n",
      "c :  950\n",
      "c :  1000\n",
      "c :  1050\n",
      "c :  1100\n",
      "c :  1150\n",
      "c :  1200\n",
      "c :  1250\n",
      "c :  1300\n",
      "c :  1350\n",
      "c :  1400\n",
      "c :  1450\n",
      "c :  1500\n",
      "c :  1550\n",
      "c :  1600\n",
      "c :  1650\n",
      "c :  1700\n",
      "c :  1750\n",
      "c :  1800\n",
      "c :  1850\n",
      "c :  1900\n",
      "c :  1950\n",
      "c :  2000\n",
      "c :  2050\n",
      "c :  2100\n",
      "c :  2150\n",
      "c :  2200\n",
      "c :  2250\n",
      "c :  2300\n",
      "c :  2350\n",
      "c :  2400\n",
      "c :  2450\n",
      "c :  2500\n",
      "c :  2550\n",
      "c :  2600\n",
      "c :  2650\n",
      "c :  2700\n",
      "c :  2750\n",
      "c :  2800\n",
      "c :  2850\n",
      "c :  2900\n",
      "c :  2950\n",
      "c :  3000\n",
      "c :  3050\n",
      "c :  3100\n",
      "c :  3150\n",
      "c :  3200\n",
      "c :  3250\n",
      "c :  3300\n",
      "c :  3350\n",
      "c :  3400\n",
      "c :  3450\n",
      "c :  3500\n",
      "c :  3550\n",
      "c :  3600\n",
      "c :  3650\n",
      "c :  3700\n",
      "c :  3750\n",
      "c :  3800\n",
      "c :  3850\n",
      "c :  3900\n",
      "c :  3950\n",
      "c :  4000\n",
      "c :  4050\n",
      "c :  4100\n",
      "c :  4150\n",
      "c :  4200\n",
      "c :  4250\n",
      "c :  4300\n",
      "c :  4350\n",
      "c :  4400\n",
      "c :  4450\n",
      "c :  4500\n",
      "c :  4550\n",
      "c :  4600\n",
      "c :  4650\n",
      "c :  4700\n",
      "c :  4750\n",
      "c :  4800\n",
      "c :  4850\n",
      "c :  4900\n",
      "c :  4950\n",
      "c :  5000\n",
      "c :  5050\n",
      "c :  5100\n",
      "c :  5150\n",
      "c :  5200\n",
      "c :  5250\n",
      "c :  5300\n",
      "c :  5350\n",
      "c :  5400\n",
      "c :  5450\n",
      "c :  5500\n",
      "c :  5550\n",
      "c :  5600\n",
      "c :  5650\n",
      "c :  5700\n",
      "c :  5750\n",
      "c :  5800\n",
      "c :  5850\n",
      "c :  5900\n",
      "c :  5950\n",
      "c :  6000\n",
      "c :  6050\n",
      "c :  6100\n",
      "c :  6150\n",
      "c :  6200\n",
      "c :  6250\n",
      "c :  6300\n",
      "c :  6350\n",
      "c :  6400\n",
      "c :  6450\n",
      "c :  6500\n",
      "c :  6550\n",
      "c :  6600\n",
      "c :  6650\n",
      "c :  6700\n",
      "c :  6750\n",
      "c :  6800\n",
      "c :  6850\n",
      "c :  6900\n",
      "c :  6950\n",
      "c :  7000\n",
      "c :  7050\n",
      "c :  7100\n",
      "c :  7150\n",
      "c :  7200\n",
      "c :  7250\n",
      "c :  7300\n",
      "c :  7350\n",
      "c :  7400\n",
      "c :  7450\n",
      "c :  7500\n",
      "c :  7550\n",
      "c :  7600\n",
      "c :  7650\n",
      "c :  7700\n",
      "c :  7750\n",
      "c :  7800\n",
      "c :  7850\n",
      "c :  7900\n",
      "c :  7950\n",
      "c :  8000\n",
      "c :  8050\n",
      "c :  8100\n",
      "c :  8150\n",
      "c :  8200\n",
      "c :  8250\n",
      "c :  8300\n",
      "c :  8350\n",
      "c :  8400\n",
      "c :  8450\n",
      "c :  8500\n",
      "c :  8550\n",
      "c :  8600\n",
      "c :  8650\n",
      "c :  8700\n",
      "c :  8750\n",
      "c :  8800\n",
      "c :  8850\n",
      "c :  8900\n",
      "c :  8950\n",
      "c :  9000\n",
      "c :  9050\n",
      "c :  9100\n",
      "c :  9150\n",
      "c :  9200\n",
      "c :  9250\n",
      "c :  9300\n",
      "c :  9350\n",
      "c :  9400\n",
      "c :  9450\n",
      "c :  9500\n",
      "c :  9550\n",
      "c :  9600\n",
      "c :  9650\n",
      "c :  9700\n",
      "c :  9750\n",
      "c :  9800\n",
      "c :  9850\n",
      "c :  9900\n",
      "c :  9950\n",
      "c :  10000\n",
      "c :  10050\n",
      "c :  10100\n",
      "c :  10150\n",
      "c :  10200\n",
      "c :  10250\n",
      "c :  10300\n",
      "c :  10350\n",
      "c :  10400\n",
      "c :  10450\n",
      "c :  10500\n",
      "c :  10550\n",
      "c :  10600\n",
      "c :  10650\n",
      "c :  10700\n",
      "c :  10750\n",
      "c :  10800\n",
      "c :  10850\n",
      "c :  10900\n",
      "c :  10950\n",
      "c :  11000\n",
      "c :  11050\n",
      "c :  11100\n",
      "c :  11150\n",
      "c :  11200\n",
      "c :  11250\n",
      "c :  11300\n",
      "c :  11350\n",
      "c :  11400\n",
      "c :  11450\n"
     ]
    }
   ],
   "source": [
    "for c in range(len(df_cut)-567):\n",
    "  I = Image.open(df_cut['label'][c])\n",
    "  L = I.convert('L')\n",
    "  img = np.array(L)\n",
    "  img_array[c] = img\n",
    "  if(c % 50 == 0):\n",
    "    print(\"c : \" , c)"
   ]
  },
  {
   "cell_type": "code",
   "execution_count": null,
   "id": "UA61H8FGmQhZ",
   "metadata": {
    "id": "UA61H8FGmQhZ"
   },
   "outputs": [],
   "source": [
    "# img_array = np.expand_dims(img_array, axis=-1)\n",
    "img_array = img_array.reshape(len(img_array), 65536).astype('int')"
   ]
  },
  {
   "cell_type": "code",
   "execution_count": null,
   "id": "uUKMj30aYVb3",
   "metadata": {
    "id": "uUKMj30aYVb3"
   },
   "outputs": [],
   "source": [
    "len(img_array)"
   ]
  },
  {
   "cell_type": "code",
   "execution_count": null,
   "id": "iComAyJS-LXN",
   "metadata": {
    "id": "iComAyJS-LXN"
   },
   "outputs": [],
   "source": [
    "img_array.shape  #題目"
   ]
  },
  {
   "cell_type": "code",
   "execution_count": null,
   "id": "ANjxKwiZLRnm",
   "metadata": {
    "id": "ANjxKwiZLRnm"
   },
   "outputs": [],
   "source": [
    "dict = ['Nashi','A','B','C','D','E','F','G','H','I','J','K','L','M','N','O','P','Q','R','S','T','U','V','W','X','Y','Z','0','1','2','3','4','5','6','7','8','9']"
   ]
  },
  {
   "cell_type": "code",
   "execution_count": null,
   "id": "Op8Uc-5iajQ6",
   "metadata": {
    "id": "Op8Uc-5iajQ6"
   },
   "outputs": [],
   "source": [
    "leng = []  #查看最大值用來建立字典\n",
    "for z in range(len(df_train)):\n",
    "  leng.append(len(df_train['label'][z]))\n",
    "z = max(leng)"
   ]
  },
  {
   "cell_type": "code",
   "execution_count": null,
   "id": "3KaFJZ2lS4-3",
   "metadata": {
    "id": "3KaFJZ2lS4-3"
   },
   "outputs": [],
   "source": [
    "dict_str = np.zeros(((len(df_train))-567, z,37), dtype=np.int)\n",
    "# dict_str = np.empty((len(df_train), z ),dtype=object)"
   ]
  },
  {
   "cell_type": "code",
   "execution_count": null,
   "id": "XvfkU1KOY0j6",
   "metadata": {
    "id": "XvfkU1KOY0j6"
   },
   "outputs": [],
   "source": [
    "for i in range(len(df_train)-567):   #將答案根據字典轉換\n",
    "  str1 = list(df_train['label'][i])\n",
    "  for j in range(len(str1)):\n",
    "    for k in range(37):\n",
    "      if(str1[j] == dict[k]):\n",
    "        dict_str[i][j][k] = 1\n",
    "        break"
   ]
  },
  {
   "cell_type": "code",
   "execution_count": null,
   "id": "3l3zxtO8jR6U",
   "metadata": {
    "id": "3l3zxtO8jR6U"
   },
   "outputs": [],
   "source": [
    "dict_str.shape  #答案"
   ]
  },
  {
   "cell_type": "code",
   "execution_count": null,
   "id": "fnKAdSM8u7gO",
   "metadata": {
    "id": "fnKAdSM8u7gO"
   },
   "outputs": [],
   "source": [
    "dict_str_2 = dict_str.reshape(len(dict_str), 444).astype('int')"
   ]
  },
  {
   "cell_type": "code",
   "execution_count": 22,
   "id": "yK5hRUAGzRe2",
   "metadata": {
    "id": "yK5hRUAGzRe2"
   },
   "outputs": [],
   "source": [
    "# import sys  #顯示完整陣列\n",
    "# np.set_printoptions(threshold=sys.maxsize)\n",
    "# # print(img_array[0])"
   ]
  },
  {
   "cell_type": "code",
   "execution_count": 23,
   "id": "w-NIVYxKZcQE",
   "metadata": {
    "id": "w-NIVYxKZcQE"
   },
   "outputs": [],
   "source": [
    "from keras.models import Sequential\n",
    "from keras.layers import Dense\n",
    "from keras.layers import Dropout\n",
    "from keras.layers import Dense, Dropout, Flatten, Conv2D, MaxPooling2D"
   ]
  },
  {
   "cell_type": "code",
   "execution_count": 24,
   "id": "48RGe7tVZmKb",
   "metadata": {
    "id": "48RGe7tVZmKb"
   },
   "outputs": [],
   "source": [
    "model = Sequential()"
   ]
  },
  {
   "cell_type": "code",
   "execution_count": 25,
   "id": "yVvagvKhol7_",
   "metadata": {
    "id": "yVvagvKhol7_"
   },
   "outputs": [],
   "source": [
    "# model.add(Flatten(input_shape = (256,256)))"
   ]
  },
  {
   "cell_type": "code",
   "execution_count": 26,
   "id": "494_XerhZeEE",
   "metadata": {
    "id": "494_XerhZeEE"
   },
   "outputs": [],
   "source": [
    "model.add(Dense(units=1000, input_dim = 65536 , kernel_initializer = 'normal', activation='relu'))"
   ]
  },
  {
   "cell_type": "code",
   "execution_count": 27,
   "id": "JcEvvRisZqq8",
   "metadata": {
    "id": "JcEvvRisZqq8"
   },
   "outputs": [],
   "source": [
    "model.add(Dropout(0.5))"
   ]
  },
  {
   "cell_type": "code",
   "execution_count": 28,
   "id": "Bj0PmwS2ZtQe",
   "metadata": {
    "id": "Bj0PmwS2ZtQe"
   },
   "outputs": [],
   "source": [
    "model.add(Dense(units = 256 , kernel_initializer = 'normal' , activation = 'relu'))"
   ]
  },
  {
   "cell_type": "code",
   "execution_count": 29,
   "id": "u_cA0sqUZvPc",
   "metadata": {
    "id": "u_cA0sqUZvPc"
   },
   "outputs": [],
   "source": [
    "model.add(Dropout(0.5))"
   ]
  },
  {
   "cell_type": "code",
   "execution_count": 30,
   "id": "8RKSPQWZZwot",
   "metadata": {
    "id": "8RKSPQWZZwot"
   },
   "outputs": [],
   "source": [
    "model.add(Dense(units=444, kernel_initializer = 'normal', activation='softmax'))"
   ]
  },
  {
   "cell_type": "code",
   "execution_count": 31,
   "id": "da16AtifZzBt",
   "metadata": {
    "colab": {
     "base_uri": "https://localhost:8080/"
    },
    "id": "da16AtifZzBt",
    "outputId": "fc853bce-79a4-481c-dbf3-f18ee6c927a6"
   },
   "outputs": [
    {
     "name": "stdout",
     "output_type": "stream",
     "text": [
      "Model: \"sequential\"\n",
      "_________________________________________________________________\n",
      "Layer (type)                 Output Shape              Param #   \n",
      "=================================================================\n",
      "dense (Dense)                (None, 1000)              65537000  \n",
      "_________________________________________________________________\n",
      "dropout (Dropout)            (None, 1000)              0         \n",
      "_________________________________________________________________\n",
      "dense_1 (Dense)              (None, 256)               256256    \n",
      "_________________________________________________________________\n",
      "dropout_1 (Dropout)          (None, 256)               0         \n",
      "_________________________________________________________________\n",
      "dense_2 (Dense)              (None, 444)               114108    \n",
      "=================================================================\n",
      "Total params: 65,907,364\n",
      "Trainable params: 65,907,364\n",
      "Non-trainable params: 0\n",
      "_________________________________________________________________\n",
      "None\n"
     ]
    }
   ],
   "source": [
    "print(model.summary())"
   ]
  },
  {
   "cell_type": "code",
   "execution_count": 32,
   "id": "prb2ou5baFFk",
   "metadata": {
    "id": "prb2ou5baFFk"
   },
   "outputs": [],
   "source": [
    "model.compile(loss='categorical_crossentropy',optimizer='adam', metrics=['accuracy'])"
   ]
  },
  {
   "cell_type": "code",
   "execution_count": 35,
   "id": "sWNsun0uaNCs",
   "metadata": {
    "colab": {
     "base_uri": "https://localhost:8080/"
    },
    "id": "sWNsun0uaNCs",
    "outputId": "803b974a-1f52-4ce4-e528-faae3554f8f6"
   },
   "outputs": [
    {
     "name": "stdout",
     "output_type": "stream",
     "text": [
      "Epoch 1/100\n",
      "100/100 - 76s - loss: 2601416448.0000 - accuracy: 0.0612\n",
      "Epoch 2/100\n",
      "100/100 - 75s - loss: 5815955456.0000 - accuracy: 0.0528\n",
      "Epoch 3/100\n",
      "100/100 - 76s - loss: 10776123392.0000 - accuracy: 0.0534\n",
      "Epoch 4/100\n",
      "100/100 - 75s - loss: 17806626816.0000 - accuracy: 0.0540\n",
      "Epoch 5/100\n",
      "100/100 - 75s - loss: 27170535424.0000 - accuracy: 0.0510\n",
      "Epoch 6/100\n",
      "100/100 - 75s - loss: 39192281088.0000 - accuracy: 0.0519\n",
      "Epoch 7/100\n",
      "100/100 - 75s - loss: 54205329408.0000 - accuracy: 0.0534\n",
      "Epoch 8/100\n",
      "100/100 - 76s - loss: 71958339584.0000 - accuracy: 0.0527\n",
      "Epoch 9/100\n",
      "100/100 - 76s - loss: 93110722560.0000 - accuracy: 0.0511\n",
      "Epoch 10/100\n",
      "100/100 - 76s - loss: 117633892352.0000 - accuracy: 0.0509\n",
      "Epoch 11/100\n",
      "100/100 - 76s - loss: 145556242432.0000 - accuracy: 0.0525\n",
      "Epoch 12/100\n",
      "100/100 - 76s - loss: 177368334336.0000 - accuracy: 0.0506\n",
      "Epoch 13/100\n",
      "100/100 - 77s - loss: 213129232384.0000 - accuracy: 0.0474\n",
      "Epoch 14/100\n",
      "100/100 - 76s - loss: 252834381824.0000 - accuracy: 0.0505\n",
      "Epoch 15/100\n",
      "100/100 - 76s - loss: 295571750912.0000 - accuracy: 0.0507\n",
      "Epoch 16/100\n",
      "100/100 - 76s - loss: 344127307776.0000 - accuracy: 0.0499\n",
      "Epoch 17/100\n",
      "100/100 - 76s - loss: 396058624000.0000 - accuracy: 0.0477\n",
      "Epoch 18/100\n",
      "100/100 - 75s - loss: 452031447040.0000 - accuracy: 0.0480\n",
      "Epoch 19/100\n",
      "100/100 - 76s - loss: 513142980608.0000 - accuracy: 0.0480\n",
      "Epoch 20/100\n",
      "100/100 - 76s - loss: 577900380160.0000 - accuracy: 0.0450\n",
      "Epoch 21/100\n",
      "100/100 - 75s - loss: 648157790208.0000 - accuracy: 0.0483\n",
      "Epoch 22/100\n",
      "100/100 - 76s - loss: 719970041856.0000 - accuracy: 0.0470\n",
      "Epoch 23/100\n",
      "100/100 - 76s - loss: 800193118208.0000 - accuracy: 0.0451\n",
      "Epoch 24/100\n",
      "100/100 - 75s - loss: 882190647296.0000 - accuracy: 0.0481\n",
      "Epoch 25/100\n",
      "100/100 - 75s - loss: 972474810368.0000 - accuracy: 0.0422\n",
      "Epoch 26/100\n",
      "100/100 - 76s - loss: 1065533964288.0000 - accuracy: 0.0486\n",
      "Epoch 27/100\n",
      "100/100 - 75s - loss: 1164677349376.0000 - accuracy: 0.0458\n",
      "Epoch 28/100\n",
      "100/100 - 75s - loss: 1265242472448.0000 - accuracy: 0.0466\n",
      "Epoch 29/100\n",
      "100/100 - 76s - loss: 1370134937600.0000 - accuracy: 0.0470\n",
      "Epoch 30/100\n",
      "100/100 - 76s - loss: 1484054462464.0000 - accuracy: 0.0464\n",
      "Epoch 31/100\n",
      "100/100 - 76s - loss: 1602587721728.0000 - accuracy: 0.0468\n",
      "Epoch 32/100\n",
      "100/100 - 76s - loss: 1728202932224.0000 - accuracy: 0.0474\n",
      "Epoch 33/100\n",
      "100/100 - 75s - loss: 1857340309504.0000 - accuracy: 0.0443\n",
      "Epoch 34/100\n",
      "100/100 - 75s - loss: 1991539032064.0000 - accuracy: 0.0483\n",
      "Epoch 35/100\n",
      "100/100 - 75s - loss: 2130616909824.0000 - accuracy: 0.0431\n",
      "Epoch 36/100\n",
      "100/100 - 75s - loss: 2273099382784.0000 - accuracy: 0.0444\n",
      "Epoch 37/100\n",
      "100/100 - 75s - loss: 2425612402688.0000 - accuracy: 0.0461\n",
      "Epoch 38/100\n",
      "100/100 - 75s - loss: 2581601452032.0000 - accuracy: 0.0443\n",
      "Epoch 39/100\n",
      "100/100 - 75s - loss: 2747852390400.0000 - accuracy: 0.0478\n",
      "Epoch 40/100\n",
      "100/100 - 75s - loss: 2913551777792.0000 - accuracy: 0.0451\n",
      "Epoch 41/100\n",
      "100/100 - 75s - loss: 3084054953984.0000 - accuracy: 0.0460\n",
      "Epoch 42/100\n",
      "100/100 - 75s - loss: 3275584700416.0000 - accuracy: 0.0432\n",
      "Epoch 43/100\n",
      "100/100 - 75s - loss: 3449742426112.0000 - accuracy: 0.0427\n",
      "Epoch 44/100\n",
      "100/100 - 75s - loss: 3637866135552.0000 - accuracy: 0.0438\n",
      "Epoch 45/100\n",
      "100/100 - 75s - loss: 3839251972096.0000 - accuracy: 0.0457\n",
      "Epoch 46/100\n",
      "100/100 - 75s - loss: 4038036291584.0000 - accuracy: 0.0471\n",
      "Epoch 47/100\n",
      "100/100 - 75s - loss: 4248372510720.0000 - accuracy: 0.0437\n",
      "Epoch 48/100\n",
      "100/100 - 75s - loss: 4455825145856.0000 - accuracy: 0.0432\n",
      "Epoch 49/100\n",
      "100/100 - 75s - loss: 4676450779136.0000 - accuracy: 0.0450\n",
      "Epoch 50/100\n",
      "100/100 - 75s - loss: 4908707741696.0000 - accuracy: 0.0459\n",
      "Epoch 51/100\n",
      "100/100 - 75s - loss: 5144752160768.0000 - accuracy: 0.0446\n",
      "Epoch 52/100\n",
      "100/100 - 75s - loss: 5375129550848.0000 - accuracy: 0.0454\n",
      "Epoch 53/100\n",
      "100/100 - 75s - loss: 5618014879744.0000 - accuracy: 0.0424\n",
      "Epoch 54/100\n",
      "100/100 - 75s - loss: 5872214343680.0000 - accuracy: 0.0419\n",
      "Epoch 55/100\n",
      "100/100 - 75s - loss: 6134113501184.0000 - accuracy: 0.0423\n",
      "Epoch 56/100\n",
      "100/100 - 75s - loss: 6399434686464.0000 - accuracy: 0.0446\n",
      "Epoch 57/100\n",
      "100/100 - 75s - loss: 6665365094400.0000 - accuracy: 0.0443\n",
      "Epoch 58/100\n",
      "100/100 - 75s - loss: 6949465227264.0000 - accuracy: 0.0445\n",
      "Epoch 59/100\n",
      "100/100 - 75s - loss: 7228774416384.0000 - accuracy: 0.0463\n",
      "Epoch 60/100\n",
      "100/100 - 75s - loss: 7522722775040.0000 - accuracy: 0.0461\n",
      "Epoch 61/100\n",
      "100/100 - 75s - loss: 7828852441088.0000 - accuracy: 0.0445\n",
      "Epoch 62/100\n",
      "100/100 - 75s - loss: 8116411826176.0000 - accuracy: 0.0444\n",
      "Epoch 63/100\n",
      "100/100 - 75s - loss: 8432876257280.0000 - accuracy: 0.0437\n",
      "Epoch 64/100\n",
      "100/100 - 75s - loss: 8747853283328.0000 - accuracy: 0.0429\n",
      "Epoch 65/100\n",
      "100/100 - 75s - loss: 9069190447104.0000 - accuracy: 0.0445\n",
      "Epoch 66/100\n",
      "100/100 - 75s - loss: 9402702626816.0000 - accuracy: 0.0451\n",
      "Epoch 67/100\n",
      "100/100 - 75s - loss: 9758912282624.0000 - accuracy: 0.0427\n",
      "Epoch 68/100\n",
      "100/100 - 75s - loss: 10102947971072.0000 - accuracy: 0.0437\n",
      "Epoch 69/100\n",
      "100/100 - 75s - loss: 10432177766400.0000 - accuracy: 0.0417\n",
      "Epoch 70/100\n",
      "100/100 - 75s - loss: 10819978919936.0000 - accuracy: 0.0426\n",
      "Epoch 71/100\n",
      "100/100 - 75s - loss: 11180885147648.0000 - accuracy: 0.0433\n",
      "Epoch 72/100\n",
      "100/100 - 75s - loss: 11544990580736.0000 - accuracy: 0.0437\n",
      "Epoch 73/100\n",
      "100/100 - 75s - loss: 11948529811456.0000 - accuracy: 0.0440\n",
      "Epoch 74/100\n",
      "100/100 - 75s - loss: 12302516486144.0000 - accuracy: 0.0400\n",
      "Epoch 75/100\n",
      "100/100 - 75s - loss: 12740723736576.0000 - accuracy: 0.0420\n",
      "Epoch 76/100\n",
      "100/100 - 75s - loss: 13136711122944.0000 - accuracy: 0.0412\n",
      "Epoch 77/100\n",
      "100/100 - 75s - loss: 13523437486080.0000 - accuracy: 0.0432\n",
      "Epoch 78/100\n",
      "100/100 - 75s - loss: 13972911685632.0000 - accuracy: 0.0437\n",
      "Epoch 79/100\n",
      "100/100 - 75s - loss: 14400795705344.0000 - accuracy: 0.0424\n",
      "Epoch 80/100\n",
      "100/100 - 75s - loss: 14838830989312.0000 - accuracy: 0.0448\n",
      "Epoch 81/100\n",
      "100/100 - 75s - loss: 15279698477056.0000 - accuracy: 0.0421\n",
      "Epoch 82/100\n",
      "100/100 - 75s - loss: 15720093057024.0000 - accuracy: 0.0440\n",
      "Epoch 83/100\n",
      "100/100 - 75s - loss: 16222058971136.0000 - accuracy: 0.0435\n",
      "Epoch 84/100\n",
      "100/100 - 75s - loss: 16673830600704.0000 - accuracy: 0.0422\n",
      "Epoch 85/100\n",
      "100/100 - 75s - loss: 17151411879936.0000 - accuracy: 0.0441\n",
      "Epoch 86/100\n",
      "100/100 - 75s - loss: 17656478433280.0000 - accuracy: 0.0431\n",
      "Epoch 87/100\n",
      "100/100 - 75s - loss: 18148912791552.0000 - accuracy: 0.0430\n",
      "Epoch 88/100\n",
      "100/100 - 75s - loss: 18665219031040.0000 - accuracy: 0.0439\n",
      "Epoch 89/100\n",
      "100/100 - 75s - loss: 19138714009600.0000 - accuracy: 0.0444\n",
      "Epoch 90/100\n",
      "100/100 - 75s - loss: 19662263812096.0000 - accuracy: 0.0456\n",
      "Epoch 91/100\n",
      "100/100 - 75s - loss: 20214819323904.0000 - accuracy: 0.0431\n",
      "Epoch 92/100\n",
      "100/100 - 75s - loss: 20714748903424.0000 - accuracy: 0.0449\n",
      "Epoch 93/100\n",
      "100/100 - 75s - loss: 21260677414912.0000 - accuracy: 0.0429\n",
      "Epoch 94/100\n",
      "100/100 - 75s - loss: 21796453613568.0000 - accuracy: 0.0457\n",
      "Epoch 95/100\n",
      "100/100 - 75s - loss: 22376479719424.0000 - accuracy: 0.0430\n",
      "Epoch 96/100\n",
      "100/100 - 75s - loss: 22930025086976.0000 - accuracy: 0.0423\n",
      "Epoch 97/100\n",
      "100/100 - 75s - loss: 23518481743872.0000 - accuracy: 0.0427\n",
      "Epoch 98/100\n",
      "100/100 - 75s - loss: 24147071598592.0000 - accuracy: 0.0443\n",
      "Epoch 99/100\n",
      "100/100 - 75s - loss: 24691100090368.0000 - accuracy: 0.0445\n",
      "Epoch 100/100\n",
      "100/100 - 75s - loss: 25311349571584.0000 - accuracy: 0.0435\n"
     ]
    }
   ],
   "source": [
    "train_history = model.fit(x = img_array ,y = dict_str_2 ,epochs=100, batch_size=115,verbose=2)"
   ]
  },
  {
   "cell_type": "code",
   "execution_count": null,
   "id": "JOCd7PQbwH1F",
   "metadata": {
    "id": "JOCd7PQbwH1F"
   },
   "outputs": [],
   "source": [
    "prediction=model.predict(img_array)"
   ]
  },
  {
   "cell_type": "code",
   "execution_count": null,
   "id": "oxXHgmDGwdhF",
   "metadata": {
    "id": "oxXHgmDGwdhF"
   },
   "outputs": [],
   "source": [
    "prediction.shape"
   ]
  },
  {
   "cell_type": "code",
   "execution_count": null,
   "id": "BfiZOGIcwftR",
   "metadata": {
    "id": "BfiZOGIcwftR"
   },
   "outputs": [],
   "source": [
    "prediction = prediction.reshape(len(prediction), 12,37).astype('float32')"
   ]
  },
  {
   "cell_type": "code",
   "execution_count": null,
   "id": "8V7B2ZrUVDBk",
   "metadata": {
    "id": "8V7B2ZrUVDBk"
   },
   "outputs": [],
   "source": [
    "prediction.shape"
   ]
  },
  {
   "cell_type": "code",
   "execution_count": null,
   "id": "3IM4vHkLwpQl",
   "metadata": {
    "id": "3IM4vHkLwpQl"
   },
   "outputs": [],
   "source": [
    "prediction[0]"
   ]
  },
  {
   "cell_type": "code",
   "execution_count": null,
   "id": "uDspsxVEVMeJ",
   "metadata": {
    "id": "uDspsxVEVMeJ"
   },
   "outputs": [],
   "source": [
    "dict_ToAns = np.empty((len(prediction)) ,dtype=object)  "
   ]
  },
  {
   "cell_type": "code",
   "execution_count": null,
   "id": "XuEuf5MMUPS_",
   "metadata": {
    "id": "XuEuf5MMUPS_"
   },
   "outputs": [],
   "source": [
    "for c in range(len(prediction)): #12067\n",
    "  str3 = \"\"\n",
    "  for b in range(len(dict_str[c])):  #12\n",
    "    for d in range(len(dict)):   #37\n",
    "      if(prediction[c][b][d]!=0):\n",
    "        str3 = str3 + dict[d]\n",
    "  dict_ToAns[c] = str3"
   ]
  }
 ],
 "metadata": {
  "accelerator": "GPU",
  "colab": {
   "collapsed_sections": [],
   "name": "img_capture_New.ipynb",
   "provenance": []
  },
  "kernelspec": {
   "display_name": "Python 3",
   "language": "python",
   "name": "python3"
  },
  "language_info": {
   "codemirror_mode": {
    "name": "ipython",
    "version": 3
   },
   "file_extension": ".py",
   "mimetype": "text/x-python",
   "name": "python",
   "nbconvert_exporter": "python",
   "pygments_lexer": "ipython3",
   "version": "3.7.6"
  }
 },
 "nbformat": 4,
 "nbformat_minor": 5
}
